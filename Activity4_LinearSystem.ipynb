{
  "cells": [
    {
      "attachments": {},
      "cell_type": "markdown",
      "metadata": {},
      "source": [
        "# Activity 4: Linear Algebra and Linear Systems\n",
        "\n",
        "In this activity we'll learn how python can help with managing linear systems of equations.\n",
        "\n",
        "First let's look at manipulating matrices with python:"
      ]
    },
    {
      "cell_type": "code",
      "execution_count": 4,
      "metadata": {},
      "outputs": [
        {
          "data": {
            "text/plain": [
              "array([[1, 2, 3],\n",
              "       [4, 5, 6],\n",
              "       [7, 8, 9]])"
            ]
          },
          "execution_count": 4,
          "metadata": {},
          "output_type": "execute_result"
        }
      ],
      "source": [
        "import numpy as np\n",
        "\n",
        "#\n",
        "# create a 3x3 matrix using numpy. The input is a list of lists\n",
        "#\n",
        "\n",
        "A = np.array([[1, 2, 3], [4, 5, 6], [7, 8, 9]])\n",
        "A"
      ]
    },
    {
      "attachments": {},
      "cell_type": "markdown",
      "metadata": {},
      "source": [
        "To create a matrix use the np.array constructor, but this time the argument is a list of lists. The outer list holds the three rows, and each inner list is a single row. You can experiment with arrays easily to see how they behave:"
      ]
    },
    {
      "cell_type": "code",
      "execution_count": 5,
      "metadata": {},
      "outputs": [
        {
          "data": {
            "text/plain": [
              "array([[ 2,  3,  4],\n",
              "       [ 5,  6,  7],\n",
              "       [ 8,  9, 10]])"
            ]
          },
          "execution_count": 5,
          "metadata": {},
          "output_type": "execute_result"
        }
      ],
      "source": [
        "A+1"
      ]
    },
    {
      "cell_type": "code",
      "execution_count": 6,
      "metadata": {},
      "outputs": [
        {
          "data": {
            "text/plain": [
              "array([[ 2,  4,  6],\n",
              "       [ 8, 10, 12],\n",
              "       [14, 16, 18]])"
            ]
          },
          "execution_count": 6,
          "metadata": {},
          "output_type": "execute_result"
        }
      ],
      "source": [
        "A*2"
      ]
    },
    {
      "attachments": {},
      "cell_type": "markdown",
      "metadata": {},
      "source": [
        "Note that simple math with scalers operates on eacm of the elements of the array the same. You can also add arrays:"
      ]
    },
    {
      "cell_type": "code",
      "execution_count": 10,
      "metadata": {},
      "outputs": [
        {
          "data": {
            "text/plain": [
              "array([[ 2,  4,  6],\n",
              "       [ 8, 10, 12],\n",
              "       [14, 16, 18]])"
            ]
          },
          "execution_count": 10,
          "metadata": {},
          "output_type": "execute_result"
        }
      ],
      "source": [
        "B=2*A # create a new matrix B that is 2 times A\n",
        "B"
      ]
    },
    {
      "cell_type": "code",
      "execution_count": 11,
      "metadata": {},
      "outputs": [
        {
          "data": {
            "text/plain": [
              "array([[ 3,  6,  9],\n",
              "       [12, 15, 18],\n",
              "       [21, 24, 27]])"
            ]
          },
          "execution_count": 11,
          "metadata": {},
          "output_type": "execute_result"
        }
      ],
      "source": [
        "A+B # add A and B"
      ]
    },
    {
      "cell_type": "code",
      "execution_count": 14,
      "metadata": {},
      "outputs": [
        {
          "data": {
            "text/plain": [
              "array([[  2,   8,  18],\n",
              "       [ 32,  50,  72],\n",
              "       [ 98, 128, 162]])"
            ]
          },
          "execution_count": 14,
          "metadata": {},
          "output_type": "execute_result"
        }
      ],
      "source": [
        "A*B # multiply A and B element by element"
      ]
    },
    {
      "attachments": {},
      "cell_type": "markdown",
      "metadata": {},
      "source": [
        "# The Scaler Product\n",
        "\n",
        "There is a very useful operation between two vectors sometimes called the \"dot\" product, or \"scaler\" product. A dot product is computing by multiplying corresponding components of two individual vectors, and then calculating the sum of those products. Suppose $\\vec{A}^{*}$ is a vector and $\\vec{B}$ is a vector, like so\n",
        "\n",
        "$$ \\vec{A} = \\begin{bmatrix} 1 \\\\ 2 \\\\ 3 \\end{bmatrix} \\ \\ \\vec{B} = \\begin{bmatrix} 4 \\\\ 5 \\\\ 6 \\end{bmatrix}$$\n",
        "\n",
        "The *dot* *product* of $\\vec{A}$ and $\\vec{B}$ would be:\n",
        "\n",
        "$$ \\sum A_i B_i = 1\\times 4 + 2 \\times 5 + 3 \\times 6 = 32 $$\n",
        "\n",
        "In python one can accomplish this by using the \"matrix multiplication\" operator `@` like so:"
      ]
    },
    {
      "cell_type": "code",
      "execution_count": 17,
      "metadata": {},
      "outputs": [
        {
          "data": {
            "text/plain": [
              "32"
            ]
          },
          "execution_count": 17,
          "metadata": {},
          "output_type": "execute_result"
        }
      ],
      "source": [
        "A = np.array([1,2,3])\n",
        "B = np.array([4,5,6])\n",
        "\n",
        "A@B"
      ]
    },
    {
      "attachments": {},
      "cell_type": "markdown",
      "metadata": {},
      "source": [
        "There is a related concept called a *linear* *transformation* where a vector is linearly transformed into another vector. A linear transformation involves using this same matrix multiplication operator to compute the dot product of the three row vectors that make up the linear transoformation with the original vector:\n",
        "\n",
        "Suppose:\n",
        "\n",
        "$$ A = \\begin{bmatrix} 1 & 2 & 3 \\\\ 4 & 5 & 6 \\\\ 7 & 8 & 9 \\end{bmatrix} $$\n",
        "\n",
        "and \n",
        "\n",
        "$$ \\vec{B} = \\begin{bmatrix} 2 \\\\ 3 \\\\ 4 \\end{bmatrix} $$\n",
        "\n",
        "Then you can compute the linear transformation of $\\vec{B}$ by $A$ as the vector whose components are the dot products of the rows of $A$ with $\\vec{B}$.\n",
        "\n",
        "Let $\\vec{C}$ be the linear transformation:\n",
        "\n",
        "$$ \\vec{C} = A \\vec{B} = \\begin{bmatrix} 1 & 2 & 3 \\\\ 4 & 5 & 6 \\\\ 7 & 8 & 9 \\end{bmatrix} \\begin{bmatrix} 2 \\\\ 3 \\\\ 4 \\end{bmatrix}$$\n",
        "\n",
        "$$ \\vec{C} = \\begin{bmatrix} 1\\times 2 + 2\\times 3 + 3 \\times 4 \\\\ 4 \\times 2 + 5 \\times 3 + 6\\times 4 \\\\ 7\\times 2 + 8\\times 3 + 9\\times 4 \\end{bmatrix} = \\begin{bmatrix} 20 \\\\ 47 \\\\ 74 \\end{bmatrix}$$\n",
        "\n"
      ]
    },
    {
      "cell_type": "code",
      "execution_count": 20,
      "metadata": {},
      "outputs": [
        {
          "data": {
            "text/plain": [
              "array([20, 47, 74])"
            ]
          },
          "execution_count": 20,
          "metadata": {},
          "output_type": "execute_result"
        }
      ],
      "source": [
        "#\n",
        "# It looks hard, but in python it's actually super easy:\n",
        "#\n",
        "\n",
        "A = np.array([[1,2,3],[4,5,6],[7,8,9]])\n",
        "B = np.array([2,3,4])\n",
        "C = A@B\n",
        "C"
      ]
    },
    {
      "attachments": {},
      "cell_type": "markdown",
      "metadata": {},
      "source": [
        "Another way to *think* of it is the linear combination, or superposition, of the columns of $A$ using the components of $\\vec{B}$ as the coefficients:\n",
        "\n",
        "$$\\vec{C} = \\begin{bmatrix} 1 \\\\ 4 \\\\ 7 \\end{bmatrix} \\times 2 +  \\begin{bmatrix} 2 \\\\ 5 \\\\ 8 \\end{bmatrix} \\times 3 + \\begin{bmatrix} 3 \\\\ 6 \\\\ 9 \\end{bmatrix} \\times 4 =  \\begin{bmatrix} 20 \\\\ 47 \\\\ 74 \\end{bmatrix}$$\n",
        "\n",
        "As you can see you get the same result either way.\n",
        "\n",
        "# Systems of Equations again\n",
        "\n"
      ]
    },
    {
      "attachments": {},
      "cell_type": "markdown",
      "metadata": {},
      "source": []
    }
  ],
  "metadata": {
    "colab": {
      "provenance": []
    },
    "kernelspec": {
      "display_name": "Python 3",
      "name": "python3"
    },
    "language_info": {
      "codemirror_mode": {
        "name": "ipython",
        "version": 3
      },
      "file_extension": ".py",
      "mimetype": "text/x-python",
      "name": "python",
      "nbconvert_exporter": "python",
      "pygments_lexer": "ipython3",
      "version": "3.10.10"
    }
  },
  "nbformat": 4,
  "nbformat_minor": 0
}
