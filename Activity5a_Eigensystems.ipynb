{
  "cells": [
    {
      "cell_type": "markdown",
      "metadata": {
        "id": "Kb1Bpc1gc3Wr"
      },
      "source": [
        "# Activity 5a: Eigenvalues and Eigenvectors for differential equations: Eigensystems (with real, distinct, eigenvalues)\n",
        "\n",
        "In this activity we'll learn how to solve a system of first order linear equations with constant coefficients using the eigenvalues and eigenvectors of the linear transformation that takes the current state vector to the rate of change of the state vector.\n",
        "\n",
        "Before we get into those details, let's review a simple case we encountered previously. You'll recall this problem:\n",
        "\n",
        "$$ \\frac{dy}{dt} = \\lambda y $$\n",
        "\n",
        "This is an easy, seperable, equation with a very simple solution:\n",
        "\n",
        "$$ y(t) = y(0) e^{\\lambda t} $$\n",
        "\n",
        "In a sense this is a *template* solution for coupled systems too, so understanding it is foundational. The difference between this problem, and a coupled system of equations is just that in the coupled system $y$ is no longer a simple number, but is a *vector* $\\vec{y}$:\n",
        "\n",
        "$$\\vec{y} = \\begin{bmatrix} y_1 \\\\ y_2 \\\\ y_3 \\\\ \\vdots \\end{bmatrix}$$\n",
        "\n",
        "also, $\\lambda$ cannot be a simple number, but in this case needs to be a *matrix*, that represents a linear transformation that transforms the vector $\\vec{y}$ into the vector $\\vec{dy/dt}$. To make this clear, we'll use the name $A$ for this matrix:\n",
        "\n",
        "$$ \\frac{d\\vec{y}}{dt} = A \\vec{y} $$\n",
        "\n",
        "or in component form:\n",
        "\n",
        "$$\\frac{d}{dt} \\begin{bmatrix} y_1 \\\\ y_2 \\\\ y_3 \\\\ \\vdots \\\\ y_N\n",
        "\\end{bmatrix} = \\begin{bmatrix} A_{11} & A_{12} & \\cdots & A_{1N} \\\\\n",
        "A_{21} & \\ddots & & \\vdots \\\\\n",
        "\\vdots &        &\\ddots & \\vdots \\\\\n",
        "A_{N1} &  \\cdots & \\cdots & A_{NN}\n",
        "\\end{bmatrix}\n",
        "\\begin{bmatrix} y_1 \\\\ y_2 \\\\ y_3 \\\\ \\vdots \\\\ y_N \\end{bmatrix}\n",
        "$$\n",
        "\n",
        "It turns out that when the matrix $A$ is a *constant* matrix with distinct eigenvalues this generally leads to solutions of the form:\n",
        "\n",
        "$$ \\vec{y} = c_1 \\vec{v}_1 e^{\\lambda_1 t} + c_2 \\vec{v}_2 e^{\\lambda_2 t} + \\cdots $$\n",
        "\n",
        "where $\\vec{v}_i$ are the *eigenvectors* of $A$ and $\\lambda_i$ are the *eigenvalues* of $A$. This is easy to remember since these solutions are exactly like the template solution we found before to the\n",
        "\n",
        "Some complications arise when the eigenvalues are repeated, but we'll deal with that in a different activity. For now, let's focus on the simpler case when the eigenvalues are distinct.\n",
        "\n",
        "# Eigenvalues and Eigenvectors\n",
        "\n",
        "Here's the idea. Suppose we had a special constant vector $\\vec{y}_i$ that had the propery that:\n",
        "\n",
        "$$ A \\vec{y}_i = \\lambda_i \\vec{y}_i $$\n",
        "\n",
        "We'll call this special vector $\\vec{y}_i$ an *eigenvector* and $\\lambda_i$ it's *eigenvalue*. Let's propose a solution to the differential equation.\n",
        "\n",
        "$$ \\vec{y}(t) = c_i(t) \\vec{y}_i $$\n",
        "\n",
        "Where $\\vec{y}(t)$ is a vector solution that's a time variant scaler $c_i(t)$ multiplied by the constant eigenvector $\\vec{y}_i$.\n",
        "\n",
        "Plugging this proposed solution into the original differential equation gives:\n",
        "\n",
        "$$ \\frac{dy}{dt} = \\frac{d c_i(t)}{dt} \\vec{y}_i = A c_i(t) \\vec{y}_i = \\lambda_i c_i(t) \\vec{y}_i $$\n",
        "\n",
        "Note that $\\vec{y}_i$ is a *constant* and it's a common multiple on both sides. Since the time dependent part of both sides needs to agree we need to have:\n",
        "\n",
        "$$ \\frac{d c_i(t)}{dt} = \\lambda_i c_i(t) $$\n",
        "\n",
        "Look familiar? Of course! That's our template equation. We already know the solution:\n",
        "\n",
        "$$ c_i(t) = c_i(0) e^{\\lambda_i t} $$\n",
        "\n",
        "and that makes the vector solution:\n",
        "\n",
        "$$ \\vec{y}(t) = c_i(t) \\vec{y}_i = c_i(0) e^{\\lambda_i t} \\vec{y}_i $$\n",
        "\n",
        "It turns out that an $n \\times n$ system will generally have $n$ eigenvectors and $n$ eigenvalues, so we can form $n$ independent solutions that can satisfy the initial conditions of the problem by superposing these independent solutions, as we've done before.\n",
        "\n",
        "Let's consider some examples.\n",
        "\n",
        "## Example: Radioactive decay\n",
        "\n",
        "Take the radioactive decay problem, like that from Activity 4. Remember in that case there were three concentrations for three species of radioactive material. $c_1$ was the amount of material 1, the original isotope. This material decays into material 2 with a decay rate of $r_1$\n",
        "\n",
        "$$ \\frac{dc_1}{dt} = - r_1 c_1 $$\n",
        "\n",
        "but for every decay of material 1 we get a particle of material 2. Then of course material 2 decays into material 3, which is stable. This means:\n",
        "\n",
        "$$ \\frac{dc_2}{dt} = + r_1 c_1 - r_2 c_2$$\n",
        "\n",
        "and\n",
        "\n",
        "$$ \\frac{dc_3}{dt} = + r_2 c_2 $$\n",
        "\n",
        "We can convert this into a linear system of equations like so:\n",
        "\n",
        "$$ \\begin{bmatrix} d\\,c_1/dt \\\\ d\\,c_2/dt \\\\ d\\,c_3/dt \\end{bmatrix} = \\begin{bmatrix} - r_1 & 0 & 0 \\\\ + r_1 & - r_2 & 0 \\\\ 0 & + r_2  & 0 \\end{bmatrix} \\begin{bmatrix} c_1 \\\\ c_2 \\\\ c_3 \\end{bmatrix} $$\n",
        "\n",
        "There are ways of manually getting eigenvalues and eigenvectors, but you'll learn those when you take Linear Algebra (MATH-280). For this course we're not as interested in computing eigenvalues as we are *using* them!\n",
        "\n",
        "Let's create the $A$ matrix in sympy and use the `eigenvects` function to find the eigenvalues and eigenvectors:"
      ]
    },
    {
      "cell_type": "code",
      "execution_count": 1,
      "metadata": {
        "id": "XC6rMYJmc3Wt"
      },
      "outputs": [],
      "source": [
        "import sympy as sp"
      ]
    },
    {
      "cell_type": "code",
      "execution_count": 2,
      "metadata": {
        "id": "QvWSDlkxc3Wu",
        "outputId": "561d77b4-4248-438e-8dc2-57573692be04",
        "colab": {
          "base_uri": "https://localhost:8080/",
          "height": 78
        }
      },
      "outputs": [
        {
          "output_type": "execute_result",
          "data": {
            "text/plain": [
              "Matrix([\n",
              "[-r1,   0, 0],\n",
              "[ r1, -r2, 0],\n",
              "[  0,  r2, 0]])"
            ],
            "text/latex": "$\\displaystyle \\left[\\begin{matrix}- r_{1} & 0 & 0\\\\r_{1} & - r_{2} & 0\\\\0 & r_{2} & 0\\end{matrix}\\right]$"
          },
          "metadata": {},
          "execution_count": 2
        }
      ],
      "source": [
        "r1,r2,t = sp.symbols('r1 r2,t', real=True)\n",
        "A = sp.Matrix([[-r1, 0, 0],[r1, -r2,0],[0,r2,0]])\n",
        "A"
      ]
    },
    {
      "cell_type": "code",
      "execution_count": 3,
      "metadata": {
        "id": "u1kA7Lhec3Wu",
        "outputId": "5df9ce68-0df0-4994-aca9-687792f905d0",
        "colab": {
          "base_uri": "https://localhost:8080/"
        }
      },
      "outputs": [
        {
          "output_type": "execute_result",
          "data": {
            "text/plain": [
              "[(0,\n",
              "  1,\n",
              "  [Matrix([\n",
              "   [0],\n",
              "   [0],\n",
              "   [1]])]),\n",
              " (-r1,\n",
              "  1,\n",
              "  [Matrix([\n",
              "   [(r1 - r2)/r2],\n",
              "   [      -r1/r2],\n",
              "   [           1]])]),\n",
              " (-r2,\n",
              "  1,\n",
              "  [Matrix([\n",
              "   [ 0],\n",
              "   [-1],\n",
              "   [ 1]])])]"
            ]
          },
          "metadata": {},
          "execution_count": 3
        }
      ],
      "source": [
        "eigs = sp.matrices.MatrixBase.eigenvects(A)\n",
        "eigs"
      ]
    },
    {
      "cell_type": "code",
      "execution_count": 4,
      "metadata": {
        "id": "jDC3X0qGc3Wv",
        "outputId": "3438a1da-72d5-415f-f967-a689ef58cc36",
        "colab": {
          "base_uri": "https://localhost:8080/"
        }
      },
      "outputs": [
        {
          "output_type": "execute_result",
          "data": {
            "text/plain": [
              "(0,\n",
              " 1,\n",
              " [Matrix([\n",
              "  [0],\n",
              "  [0],\n",
              "  [1]])])"
            ]
          },
          "metadata": {},
          "execution_count": 4
        }
      ],
      "source": [
        "eigs[0] # each element of the return value lists 1) the eigenvalue, 2) the multiplicity, and 3) the eigenvectors"
      ]
    },
    {
      "cell_type": "markdown",
      "metadata": {
        "id": "wAx9zINpc3Wv"
      },
      "source": [
        "So this first eigenvector has an eigenvalue of 0 (meaning that it's a constant, independent of time), a multiplicity of 1 (meanign it's not repeated), and an eigen vector of [0,0,1], which means that it corresponds to 100% material 3, with no contribution from material 1 or material 2.\n",
        "\n",
        "The second eigenvector:"
      ]
    },
    {
      "cell_type": "code",
      "execution_count": 5,
      "metadata": {
        "id": "QpiQszIMc3Wv",
        "outputId": "21d099b9-cf84-4915-d4bd-909c93044dbc",
        "colab": {
          "base_uri": "https://localhost:8080/"
        }
      },
      "outputs": [
        {
          "output_type": "execute_result",
          "data": {
            "text/plain": [
              "(-r1,\n",
              " 1,\n",
              " [Matrix([\n",
              "  [(r1 - r2)/r2],\n",
              "  [      -r1/r2],\n",
              "  [           1]])])"
            ]
          },
          "metadata": {},
          "execution_count": 5
        }
      ],
      "source": [
        "eigs[1]"
      ]
    },
    {
      "cell_type": "markdown",
      "metadata": {
        "id": "7eRdPNiyc3Wv"
      },
      "source": [
        "This one is an exponentially decaying vector, with a rate $r_1$, having contributions from all three materials, $c_1$, $c_2$, and $c_3$.\n",
        "\n",
        "The last eigenvector:"
      ]
    },
    {
      "cell_type": "code",
      "execution_count": 6,
      "metadata": {
        "id": "a1VmKGDcc3Wv",
        "outputId": "84fc70ca-6c90-4a01-98ee-363eca81d4fd",
        "colab": {
          "base_uri": "https://localhost:8080/"
        }
      },
      "outputs": [
        {
          "output_type": "execute_result",
          "data": {
            "text/plain": [
              "(-r2,\n",
              " 1,\n",
              " [Matrix([\n",
              "  [ 0],\n",
              "  [-1],\n",
              "  [ 1]])])"
            ]
          },
          "metadata": {},
          "execution_count": 6
        }
      ],
      "source": [
        "eigs[2]"
      ]
    },
    {
      "cell_type": "markdown",
      "metadata": {
        "id": "1h2khutcc3Ww"
      },
      "source": [
        "Is also exponentially decaying, but only having contributions from $c_2$ and $c_3$.\n",
        "\n",
        "The trick is to create the initial condition by adding together the three eigenvectors with arbitrary coefficients to get the correct initial conditions.\n",
        "\n",
        "The initial distribution is `[c1,c2,c3] = [1,0,0]`. How can we get this starting point by a linear combination of these three eigenvectors?\n",
        "\n",
        "Note that you can multiply an eigenvector by any constant, and it's still an eigenvector! So we can multipy the second eigenvector by $r_2/(r_1-r_2)$ to get:\n",
        "\n",
        "$$ \\vec{v}_2 = \\vec{y}_2 (r_2)/(r_1-r_2) = \\begin{bmatrix} (r_1-r_2)/(r_2) \\\\ -r_1/r_2 \\\\ 1 \\end{bmatrix} \\frac{r_2}{r_1-r_2} =\n",
        "\\begin{bmatrix} 1 \\\\ (-r_1/r_2)(r_2)/(r_1-r_2) \\\\ r_2/(r_1-r_2) \\end{bmatrix} = \\begin{bmatrix} 1 \\\\ -r_1/(r_1-r_2) \\\\ r_2/(r_1-r_2) \\end{bmatrix} $$\n",
        "\n",
        "Next we can add the third eigenvector times $-r_1/(r_1-r_2)$ to this:\n",
        "\n",
        "$$ \\vec{v}_3 = \\vec{y}_3 (r_1)/(r_1-r_2) = \\begin{bmatrix} 0 \\\\ -1 \\\\ 1 \\end{bmatrix} \\frac{-r_1}{r_1-r_2} = \\begin{bmatrix} 0 \\\\ (r_1)/(r_1-r_2) \\\\ (-r_1)/(r_1-r_2) \\end{bmatrix}$$\n",
        "\n",
        "If you were to add these two together at $t=0$ you'd get:\n",
        "\n",
        "$$ \\vec{v}_2 + \\vec{v}_3 = \\begin{bmatrix} 1 \\\\ -r_1/(r_1-r_2) \\\\ r_2/(r_1-r_2) \\end{bmatrix} + \\begin{bmatrix} 0 \\\\ (r_1)/(r_1-r_2) \\\\ (-r_1)/(r_1-r_2) \\end{bmatrix} = \\begin{bmatrix} 1 \\\\ 0 \\\\ (r_2-r_1)/(r_1-r_2) \\end{bmatrix} = \\begin{bmatrix} 1 \\\\ 0 \\\\ -1 \\end{bmatrix} $$\n",
        "\n",
        "Now we can just add the first eigenvector at $t=0$ to get the correct initial conditions!\n",
        "\n",
        "$$ y(0) = \\vec{v}_1 + \\vec{v}_2 + \\vec{v}_3 = \\begin{bmatrix} 1 \\\\ 0 \\\\ 0 \\end{bmatrix} $$\n",
        "\n",
        "We know that the first eigenvector is constant, the second decays exponentially like $e^{-r_1 t}$ and the third decays exponentially like $e^{-r_2 t}$.\n",
        "\n",
        "We can just add these together to get the full solution:\n",
        "\n",
        "$$ y(t) = \\vec{v}_1 + \\vec{v}_2 e^{-r_1 t} + \\vec{v}_3 e^{-r_2 t} =\n",
        "\\begin{bmatrix}0 \\\\ 0 \\\\ 1\\end{bmatrix} + \\begin{bmatrix} 1 \\\\ -r_1/(r_1-r_2) \\\\ r_2/(r_1-r_2) \\end{bmatrix}  e^{-r_1 t} +\n",
        "\\begin{bmatrix} 0 \\\\ r_1/(r_1-r_2) \\\\ -r_1/(r_1-r_2) \\end{bmatrix} e^{-r_2 t}$$\n",
        "\n"
      ]
    },
    {
      "cell_type": "markdown",
      "metadata": {
        "id": "b4RmnIgQc3Ww"
      },
      "source": [
        "Wow! That's excellent. We have a complete solution by adding together these simple solutions to satisfy the initial conditions.\n",
        "\n",
        "However, that was still a lot of manual work to get the answer. Can we do it more directly using our knowledge of superpositions?\n",
        "\n",
        "Sure! Let's write the initial condition as a sum of the three original eigenvectors with arbitrary coefficients, $c_1$, $c_2$, and $c_3$:\n",
        "\n",
        "$$ \\vec{y}(0) = c_1 \\vec{y}_1 + c_2 \\vec{y}_2 + c_3 \\vec{y}_3  = c_1 \\begin{bmatrix} 0 \\\\ 0 \\\\ 1 \\end{bmatrix} +\n",
        "c_2 \\begin{bmatrix} (r_1 - r_2)/r_2 \\\\ -r_1/r_2 \\\\ 1 \\end{bmatrix} +\n",
        "c_3 \\begin{bmatrix} 0 \\\\ -1 \\\\ 1 \\end{bmatrix}\n",
        "$$\n",
        "\n",
        "But wait! This is the same as matrix multiplication with a *vector* of coefficients:\n",
        "\n",
        "$$ \\vec{y}(0) = \\begin{bmatrix} 1 \\\\ 0 \\\\ 0 \\end{bmatrix} = \\begin{bmatrix} 0 & (r_1 - r_2)/r_2 & 0 \\\\ 0 & -r_1/r_2 & -1 \\\\ 1 & 1 & 1 \\end{bmatrix} \\begin{bmatrix} c_1 \\\\ c_2 \\\\ c_3 \\end{bmatrix} $$\n",
        "\n",
        "Woah! So the matrix of eigenvectors, arranged in columns, are nothing other than a linear transformation of the coefficients of superposition to the initial conditions. I can simply solve these three equations to find $c_1$, $c_2$, and $c_3$.\n",
        "\n",
        "Then the solution will simply be each eigenvector, multiplied by it's coefficient, times the time dependence given by the eigenvalue:\n",
        "\n",
        "$$ \\vec{y}(t) = c_1 \\vec{y}_1 e^{\\lambda_1 t} + c_2 \\vec{y}_2 e^{\\lambda_2 t} + \\cdots $$\n",
        "\n",
        "Let's try this! Note that there is a matrix method called `diagonalize` the produces the eigenvectors and eigenvalues already in the form needed:\n"
      ]
    },
    {
      "cell_type": "code",
      "execution_count": 7,
      "metadata": {
        "id": "UZHM52X5c3Ww",
        "outputId": "655bff27-7eca-4794-ccdf-847b097ce9cd",
        "colab": {
          "base_uri": "https://localhost:8080/"
        }
      },
      "outputs": [
        {
          "output_type": "execute_result",
          "data": {
            "text/plain": [
              "(Matrix([\n",
              " [0, (r1 - r2)/r2,  0],\n",
              " [0,       -r1/r2, -1],\n",
              " [1,            1,  1]]),\n",
              " Matrix([\n",
              " [0,   0,   0],\n",
              " [0, -r1,   0],\n",
              " [0,   0, -r2]]))"
            ]
          },
          "metadata": {},
          "execution_count": 7
        }
      ],
      "source": [
        "P,D = A.diagonalize()\n",
        "P,D\n"
      ]
    },
    {
      "cell_type": "markdown",
      "metadata": {
        "id": "Z4b0DSkEc3Ww"
      },
      "source": [
        "Note that `P` is the matrix of eigenvectors, and `D` is a diagonal matrix with the eigenvalues along the diagonal. We'll learn later why this is very useful when it comes to computing the solutions at any time."
      ]
    },
    {
      "cell_type": "code",
      "execution_count": 8,
      "metadata": {
        "id": "k0PG1ORMc3Ww",
        "outputId": "cc5f4e90-f91e-4663-b9ea-525dcd8beb88",
        "colab": {
          "base_uri": "https://localhost:8080/",
          "height": 81
        }
      },
      "outputs": [
        {
          "output_type": "execute_result",
          "data": {
            "text/plain": [
              "Matrix([\n",
              "[            1],\n",
              "[ r2/(r1 - r2)],\n",
              "[-r1/(r1 - r2)]])"
            ],
            "text/latex": "$\\displaystyle \\left[\\begin{matrix}1\\\\\\frac{r_{2}}{r_{1} - r_{2}}\\\\- \\frac{r_{1}}{r_{1} - r_{2}}\\end{matrix}\\right]$"
          },
          "metadata": {},
          "execution_count": 8
        }
      ],
      "source": [
        "y0 = sp.Matrix([1,0,0])  # intial conditions\n",
        "c = P.inv()*y0 # solve for the coefficients\n",
        "sp.simplify(c) # check values"
      ]
    },
    {
      "cell_type": "markdown",
      "metadata": {
        "id": "M9tOw-qqc3Ww"
      },
      "source": [
        "Cool! This gives us exactly the same coefficients we worked out before manually. Nice! Let's check that it works:"
      ]
    },
    {
      "cell_type": "code",
      "execution_count": 9,
      "metadata": {
        "id": "vSa6eZY8c3Ww",
        "outputId": "9d7a7ed6-7ef7-42a8-9fb2-12df5fc0d598",
        "colab": {
          "base_uri": "https://localhost:8080/",
          "height": 78
        }
      },
      "outputs": [
        {
          "output_type": "execute_result",
          "data": {
            "text/plain": [
              "Matrix([\n",
              "[1],\n",
              "[0],\n",
              "[0]])"
            ],
            "text/latex": "$\\displaystyle \\left[\\begin{matrix}1\\\\0\\\\0\\end{matrix}\\right]$"
          },
          "metadata": {},
          "execution_count": 9
        }
      ],
      "source": [
        "sp.simplify(P*c) # check that we get the initial conditions back"
      ]
    },
    {
      "cell_type": "markdown",
      "metadata": {
        "id": "GDoYPL_wc3Ww"
      },
      "source": [
        "Boom! Perfect.\n",
        "\n",
        "Now, how can we express the solution? Easy, just compute:\n",
        "\n",
        "$$ \\vec{y}(t) = c_1 \\vec{y}_1 e^{\\lambda_1 t} + c_2 \\vec{y}_2 e^{\\lambda_2 t} + \\cdots $$\n",
        "\n",
        "But we know the eigenvalues are $[0, -r_1, -r_2]$, and we just worked out the coefficients two different ways, manually and with `sympy`.\n",
        "\n",
        "What we need is\n",
        "\n",
        "$$ \\vec{y}(t) = c_1 e^{0} \\vec{y}_1 + c_2 e^{-r_1 t}\\vec{y}_2 + c_3 e^{-r_2 t}\\vec{y}_3  =\n",
        "c_1 e^{0} \\begin{bmatrix} 0 \\\\ 0 \\\\ 1 \\end{bmatrix} +\n",
        "c_2 e^{-r_1 t} \\begin{bmatrix} (r_1 - r_2)/r_2 \\\\ -r_1/r_2 \\\\ 1 \\end{bmatrix} +\n",
        "c_3 e^{-r_2 t} \\begin{bmatrix} 0 \\\\ -1 \\\\ 1 \\end{bmatrix}\n",
        "$$\n",
        "\n",
        "But just as before we can rewrite this as a matrix multiply:\n",
        "\n",
        "$$ \\vec{y}(t) = \\begin{bmatrix} 0 & (r_1 - r_2)/r_2 & 0 \\\\ 0 & -r_1/r_2 & -1 \\\\ 1 & 1 & 1 \\end{bmatrix}\n",
        "\\begin{bmatrix} e^{0} & 0 & 0 \\\\ 0 & e^{-r_1 t} & 0 \\\\ 0 & 0 & e^{-r_2 t} \\end{bmatrix}\n",
        "\\begin{bmatrix} c_1 \\\\ c_2 \\\\ c_3 \\end{bmatrix} $$\n",
        "\n",
        "That middle matrix is just the exponential of the diagonal matrix of eigenvalues. Remember the `D` matrix from before? This exponential matrix is easy to compute in sympy using the `D` matrix from the `diagonalize` function, like so:"
      ]
    },
    {
      "cell_type": "code",
      "execution_count": 10,
      "metadata": {
        "id": "-eHeZnIVc3Wx",
        "outputId": "672f1e57-8e6d-4d01-f91f-73c17dc4285b",
        "colab": {
          "base_uri": "https://localhost:8080/",
          "height": 78
        }
      },
      "outputs": [
        {
          "output_type": "execute_result",
          "data": {
            "text/plain": [
              "Matrix([\n",
              "[1,          0,          0],\n",
              "[0, exp(-r1*t),          0],\n",
              "[0,          0, exp(-r2*t)]])"
            ],
            "text/latex": "$\\displaystyle \\left[\\begin{matrix}1 & 0 & 0\\\\0 & e^{- r_{1} t} & 0\\\\0 & 0 & e^{- r_{2} t}\\end{matrix}\\right]$"
          },
          "metadata": {},
          "execution_count": 10
        }
      ],
      "source": [
        "sp.exp(D*t)"
      ]
    },
    {
      "cell_type": "markdown",
      "metadata": {
        "id": "OKCvd8Oxc3Wx"
      },
      "source": [
        "Now we can put this togehter to directly compute the solutions using the parts we already worked out:"
      ]
    },
    {
      "cell_type": "code",
      "execution_count": 11,
      "metadata": {
        "id": "OsGNKq1-c3Wx",
        "outputId": "495241f1-97ac-4e91-dd4c-d6f47c2ca335",
        "colab": {
          "base_uri": "https://localhost:8080/",
          "height": 88
        }
      },
      "outputs": [
        {
          "output_type": "execute_result",
          "data": {
            "text/plain": [
              "Matrix([\n",
              "[                                                                     exp(-r1*t)],\n",
              "[                              r1*exp(-r2*t)/(r1 - r2) - r1*exp(-r1*t)/(r1 - r2)],\n",
              "[r1/(r1 - r2) - r1*exp(-r2*t)/(r1 - r2) - r2/(r1 - r2) + r2*exp(-r1*t)/(r1 - r2)]])"
            ],
            "text/latex": "$\\displaystyle \\left[\\begin{matrix}e^{- r_{1} t}\\\\\\frac{r_{1} e^{- r_{2} t}}{r_{1} - r_{2}} - \\frac{r_{1} e^{- r_{1} t}}{r_{1} - r_{2}}\\\\\\frac{r_{1}}{r_{1} - r_{2}} - \\frac{r_{1} e^{- r_{2} t}}{r_{1} - r_{2}} - \\frac{r_{2}}{r_{1} - r_{2}} + \\frac{r_{2} e^{- r_{1} t}}{r_{1} - r_{2}}\\end{matrix}\\right]$"
          },
          "metadata": {},
          "execution_count": 11
        }
      ],
      "source": [
        "sols = sp.simplify(P*sp.exp(D*t)@c)\n",
        "sols"
      ]
    },
    {
      "cell_type": "markdown",
      "metadata": {
        "id": "a1H3lMNuc3Wx"
      },
      "source": [
        "We can substitute specific values for $r_1$ and $r_2$ to get concrete answers in a specific case:"
      ]
    },
    {
      "cell_type": "code",
      "execution_count": 12,
      "metadata": {
        "id": "Rix373rWc3Wx",
        "outputId": "7f076053-e67b-4817-c8e5-b37147ef7121",
        "colab": {
          "base_uri": "https://localhost:8080/",
          "height": 84
        }
      },
      "outputs": [
        {
          "output_type": "execute_result",
          "data": {
            "text/plain": [
              "Matrix([\n",
              "[                    exp(-3*t)],\n",
              "[  3*exp(-t)/2 - 3*exp(-3*t)/2],\n",
              "[1 - 3*exp(-t)/2 + exp(-3*t)/2]])"
            ],
            "text/latex": "$\\displaystyle \\left[\\begin{matrix}e^{- 3 t}\\\\\\frac{3 e^{- t}}{2} - \\frac{3 e^{- 3 t}}{2}\\\\1 - \\frac{3 e^{- t}}{2} + \\frac{e^{- 3 t}}{2}\\end{matrix}\\right]$"
          },
          "metadata": {},
          "execution_count": 12
        }
      ],
      "source": [
        "specific_solns = sols.subs({r1:3,r2:1}) # let's get specific solutions when r1=3 and r2=1\n",
        "specific_solns"
      ]
    },
    {
      "cell_type": "code",
      "execution_count": 13,
      "metadata": {
        "id": "n58A7DLvc3Wx",
        "outputId": "0cd8c937-fc4c-4b03-8ea7-de561ac8e29a",
        "colab": {
          "base_uri": "https://localhost:8080/",
          "height": 504
        }
      },
      "outputs": [
        {
          "output_type": "display_data",
          "data": {
            "text/plain": [
              "<Figure size 640x480 with 1 Axes>"
            ],
            "image/png": "[encoded data removed]"
          },
          "metadata": {}
        },
        {
          "output_type": "execute_result",
          "data": {
            "text/plain": [
              "<sympy.plotting.plot.Plot at 0x7f92d38dd660>"
            ]
          },
          "metadata": {},
          "execution_count": 13
        }
      ],
      "source": [
        "sp.plot(specific_solns[0],specific_solns[1],specific_solns[2],(t,0,10),ylim=(0,1),xlabel='t',ylabel='y(t)',title='radioactive decay')"
      ]
    },
    {
      "cell_type": "markdown",
      "metadata": {
        "id": "JFFFJLqMc3Wx"
      },
      "source": [
        "# Numerical Solution with `numpy`\n",
        "\n",
        "Note that this was all manual or symbolic work with sympy, we can do the same thing *numerically* with numpy, though the function names are a bit different. Also to get a numerical solution you must use numerical values for all the parameters invovled from the start (e.g., r1=3 and r2=1)"
      ]
    },
    {
      "cell_type": "code",
      "execution_count": 14,
      "metadata": {
        "id": "jzMU9rSVc3Wx"
      },
      "outputs": [],
      "source": [
        "import numpy as np\n",
        "import matplotlib.pyplot as plt"
      ]
    },
    {
      "cell_type": "code",
      "execution_count": 15,
      "metadata": {
        "id": "c-WplpPec3Wx",
        "outputId": "53884cb9-f239-4176-acd0-9f9e7e13648f",
        "colab": {
          "base_uri": "https://localhost:8080/"
        }
      },
      "outputs": [
        {
          "output_type": "execute_result",
          "data": {
            "text/plain": [
              "array([[-3,  0,  0],\n",
              "       [ 3, -1,  0],\n",
              "       [ 0,  1,  0]])"
            ]
          },
          "metadata": {},
          "execution_count": 15
        }
      ],
      "source": [
        "r1 = 3 # use numerical values for r1 and r2. Say r1 = 3, and r2 = 1\n",
        "r2 = 1\n",
        "A = np.array([[-r1, 0, 0],[r1, -r2, 0],[0, +r2, 0]])\n",
        "A"
      ]
    },
    {
      "cell_type": "code",
      "execution_count": 16,
      "metadata": {
        "id": "Y1ukGg3Ac3Wx",
        "outputId": "0449b5c6-5805-4284-8485-1c0b659eb428",
        "colab": {
          "base_uri": "https://localhost:8080/"
        }
      },
      "outputs": [
        {
          "output_type": "execute_result",
          "data": {
            "text/plain": [
              "array([ 0., -1., -3.])"
            ]
          },
          "metadata": {},
          "execution_count": 16
        }
      ],
      "source": [
        "vals,vecs = np.linalg.eig(A) # get the numerical eigenvalues and eigenvectors\n",
        "vals"
      ]
    },
    {
      "cell_type": "code",
      "execution_count": 17,
      "metadata": {
        "id": "DbCUSfDPc3Wx",
        "outputId": "56bc06e1-a6d1-4460-df81-9d56420bf0a6",
        "colab": {
          "base_uri": "https://localhost:8080/"
        }
      },
      "outputs": [
        {
          "output_type": "execute_result",
          "data": {
            "text/plain": [
              "array([[ 0.        ,  0.        ,  0.53452248],\n",
              "       [ 0.        ,  0.70710678, -0.80178373],\n",
              "       [ 1.        , -0.70710678,  0.26726124]])"
            ]
          },
          "metadata": {},
          "execution_count": 17
        }
      ],
      "source": [
        "# Note that while these are still proportional to the eigenvectors from sympy, they are not normalized the same way\n",
        "# in numpy the eigenvectors are normalize so that the sum of the squares of the vertical elements is 1. Remember\n",
        "# that the eigenvectors are arranged vertically so they can be multiplied by the coefficient vector on the right\n",
        "# to get the initial conditions.\n",
        "#\n",
        "\n",
        "vecs"
      ]
    },
    {
      "cell_type": "code",
      "execution_count": 18,
      "metadata": {
        "id": "ltD-d_sMc3Wx",
        "outputId": "ca3b80c4-9be0-4d6a-e65c-29502892ce50",
        "colab": {
          "base_uri": "https://localhost:8080/"
        }
      },
      "outputs": [
        {
          "output_type": "execute_result",
          "data": {
            "text/plain": [
              "array([1, 0, 0])"
            ]
          },
          "metadata": {},
          "execution_count": 18
        }
      ],
      "source": [
        "y0 = np.array([1,0,0])\n",
        "y0 # the initial conditions for the system, all material 1, zero everything else."
      ]
    },
    {
      "cell_type": "code",
      "execution_count": 19,
      "metadata": {
        "id": "5EH4BK2Wc3Wx",
        "outputId": "286fdfac-a9fd-499c-f4b2-0fef1c0a6d07",
        "colab": {
          "base_uri": "https://localhost:8080/"
        }
      },
      "outputs": [
        {
          "output_type": "execute_result",
          "data": {
            "text/plain": [
              "array([1.        , 2.12132034, 1.87082869])"
            ]
          },
          "metadata": {},
          "execution_count": 19
        }
      ],
      "source": [
        "c = np.linalg.inv(vecs) @ y0  # solve for the coefficient for each eigenvector to get the initial conditions\n",
        "c"
      ]
    },
    {
      "cell_type": "code",
      "execution_count": 20,
      "metadata": {
        "id": "3zky0Qbhc3Wy",
        "outputId": "f6f54bac-3b0e-4f36-be73-46ec3eb8ec60",
        "colab": {
          "base_uri": "https://localhost:8080/"
        }
      },
      "outputs": [
        {
          "output_type": "execute_result",
          "data": {
            "text/plain": [
              "array([1., 0., 0.])"
            ]
          },
          "metadata": {},
          "execution_count": 20
        }
      ],
      "source": [
        "vecs@c # check that we get the initial conditions back correctly"
      ]
    },
    {
      "cell_type": "code",
      "execution_count": 21,
      "metadata": {
        "id": "vaVYEk6gc3Wy"
      },
      "outputs": [],
      "source": [
        "t = np.linspace(0,10,100) # now, at each time, compute the time dependence of the system.\n",
        "ys = []\n",
        "for ti in t:\n",
        "    y = vecs@np.diag(np.exp(vals*ti))@c\n",
        "    ys.append(y)\n",
        "\n",
        "ys = np.array(ys) # convert ys into a matrix"
      ]
    },
    {
      "cell_type": "code",
      "execution_count": 22,
      "metadata": {
        "id": "6svCCM9Uc3Wy",
        "outputId": "73cc6a59-7dea-4d5f-d351-196e30e6ca0b",
        "colab": {
          "base_uri": "https://localhost:8080/",
          "height": 466
        }
      },
      "outputs": [
        {
          "output_type": "execute_result",
          "data": {
            "text/plain": [
              "<matplotlib.legend.Legend at 0x7f92d37faa40>"
            ]
          },
          "metadata": {},
          "execution_count": 22
        },
        {
          "output_type": "display_data",
          "data": {
            "text/plain": [
              "<Figure size 640x480 with 1 Axes>"
            ],
            "image/png": "[encoded data removed]"
          },
          "metadata": {}
        }
      ],
      "source": [
        "plt.plot(t,ys.T[0], label=\"material 1\")\n",
        "plt.plot(t,ys.T[1], label=\"material 2\")\n",
        "plt.plot(t,ys.T[2], label=\"material 3\")\n",
        "plt.grid()\n",
        "plt.xlabel('t')\n",
        "plt.ylabel('y')\n",
        "plt.legend()"
      ]
    },
    {
      "cell_type": "markdown",
      "metadata": {
        "id": "DB3V5g-uc3Wy"
      },
      "source": [
        "# Now it's your turn!\n",
        "\n",
        "Suppose we have the following system:\n",
        "\n",
        "![circuit](https://raw.githubusercontent.com/201820-SWEN-230/MATH-330-Activities/main/Images/circuit_act5.png)\n",
        "\n",
        "We can start the voltage $V_1$ at 1V, and force $V_2$ to be zero initially. How can we determine the behavior of the system at future times? We can use our experience with Kirchoff's voltage law and Kirchoff's current law, as well as our knowledge of resistors and capacitors to produce some differential equations that govern the system.\n",
        "\n",
        "First: the current through resistor $R_1$, let's call it $I_1$ must be $(V_1 - V_2)/R_1$ by Ohm's Law.\n",
        "\n",
        "This current is also minus the rate of change of the charge on $C_1$, so that also affects the rate of change of the voltage $V_1$, so we get:\n",
        "\n",
        "$$ I_1 = (V_1-V_2)/R_1 = -dQ_1/dt = -C_1 dV_1/dt $$\n",
        "\n",
        "The current through the resister $R_2$, let's call it $I_2$ must be $V_2/R_2$ by Ohm's Law.\n",
        "\n",
        "$$ I_2 = V_2/R_2 $$\n",
        "\n",
        "This current depletes the charge on $C_2$, while $I_1$ increase the charge on $C_2$ so we get:\n",
        "\n",
        "$$ dQ_2/dt = C_2 dV_2/dt = I_1 - I_2 =  (V_1 - V_2)/R_1 - V_2/R_2 $$\n",
        "\n",
        "Solving these two equations for $dV_1/dt$ and $dV_2/dt$ gives us:\n",
        "\n",
        "\\begin{align}\n",
        "dV_1/dt & = \\frac{-1}{C_1 R_1}(V_1 - V_2)\\\\\n",
        "dV_2/dt & = \\frac{1}{C_2}\\left ((V_1 - V_2)/R_1 - V_2/R_2 \\right)\n",
        "\\end{align}\n",
        "\n",
        "We can define three time constants:\n",
        "\n",
        "\\begin{align}\n",
        "\\tau_1 & = R_1 C_1 \\\\\n",
        "\\tau_2 & = R_1 C_2 \\\\\n",
        "\\tau_3 & = R_2 C_2\n",
        "\\end{align}\n",
        "\n",
        "If we use $R_1 = 1 {\\rm k\\Omega}$ and $R_2 = 2 {\\rm k\\Omega}$ and $C_1 = {\\rm 1000\\mu F}, and C_2 ={\\rm 2000\\mu F}$ then these time constant work out as:\n",
        "\n",
        "\\begin{align}\n",
        "\\tau_1 & = R_1 C_1 = 1 {\\rm sec} \\\\\n",
        "\\tau_2 & = R_1 C_2 = 2 {\\rm sec} \\\\\n",
        "\\tau_3 & = R_2 C_2 = 4 {\\rm sec}\n",
        "\\end{align}\n",
        "\n",
        "Using these time constants the equations simplify to:\n",
        "\n",
        "\\begin{align}\n",
        "dV_1/dt & = \\frac{-V_1}{\\tau_1} + \\frac{V_2}{\\tau_1}\\\\\n",
        "dV_2/dt & = \\frac{V_1}{\\tau_2} - V_2 \\left( \\frac{1}{\\tau_2} + \\frac{1}{\\tau_3}\\right)\n",
        "\\end{align}\n",
        "\n",
        "which you can convert to a system:\n",
        "\n",
        "$$ \\frac{d\\vec{V}}{dt} = A \\vec{V} $$\n",
        "\n",
        "where:\n",
        "\n",
        "$$ \\vec{V} = \\begin{bmatrix} V_1 \\\\ V_2 \\end{bmatrix} $$\n",
        "\n",
        "## Questions\n",
        "\n",
        "1. Convert this sytem of equations into a linear transformation of $\\vec{V}$ onto $d\\vec{V}/dt$. What is the matrix $A$? Explain your reasoning.\n",
        "2. Find the eigenvalues and eigenvectors of this transformation.\n",
        "3. Let the initial condition be $V_1$=1 Volt, and $V_2$=0 Volts. Find the eigenvector coefficients $c$ that produce this initial condition\n",
        "4. Solve for the volages $V_1$ and $V_2$ as a function of time in terms of $\\tau_1$, $\\tau_2$, and $\\tau_3$.\n",
        "5. Use `numpy` to find numerical solutions for the numerical $\\tau_n$ values proposed above.\n",
        "\n",
        "\n",
        "As a check, when you're finished the final graph should look like this:\n",
        "\n",
        "![output](https://raw.githubusercontent.com/201820-SWEN-230/MATH-330-Activities/main/Images/output_act5.png)"
      ]
    },
    {
      "cell_type": "markdown",
      "metadata": {
        "id": "JT_ewkS-c3Wy"
      },
      "source": []
    }
  ],
  "metadata": {
    "colab": {
      "provenance": []
    },
    "kernelspec": {
      "display_name": "Python 3",
      "name": "python3"
    },
    "language_info": {
      "codemirror_mode": {
        "name": "ipython",
        "version": 3
      },
      "file_extension": ".py",
      "mimetype": "text/x-python",
      "name": "python",
      "nbconvert_exporter": "python",
      "pygments_lexer": "ipython3",
      "version": "3.10.10"
    }
  },
  "nbformat": 4,
  "nbformat_minor": 0
}