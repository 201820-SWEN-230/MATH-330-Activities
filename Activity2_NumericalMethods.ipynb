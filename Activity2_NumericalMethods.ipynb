{
 "cells": [
  {
   "cell_type": "code",
   "execution_count": 1,
   "metadata": {},
   "outputs": [],
   "source": [
    "import numpy as np\n",
    "import matplotlib.pyplot as plt"
   ]
  },
  {
   "attachments": {},
   "cell_type": "markdown",
   "metadata": {},
   "source": [
    "# Activity 2: Numerical Methods\n",
    "\n",
    "This unit is all about computing the solutions of differential equations *numerically*. We'll need to introduce a few programming concepts to make this work.\n",
    "\n",
    "1. **Loops**: A loop is a way to repeat the same code many times. This is important when solving differential equations numerically because the process is inherantly iterative. We break the problem down into tiny steps and we use the differential equation to tell us how each step should progress. \n",
    "2. **Functions**: It's useful to separate out bits of the solution process into independent pieces. One nice way to do that is to make each part a *function* that just knows how to handle that one part.\n",
    "3. **Lists**: We can use lists to save the results of the calculation as the process continues.\n",
    "4. **Arrays**: An array is a kind of high-performance list of all the same kinds of values.\n",
    "\n",
    "Let's go through these one-by-one in detail.\n",
    "\n",
    "## Loops\n",
    "\n",
    "In general a loop is a structure that lets you repeat code many times. There are two basic types: `for` loops and `while` loops.\n",
    "\n",
    "### For Loops\n",
    "\n",
    "Here's a simple `for` loop in python:"
   ]
  },
  {
   "cell_type": "code",
   "execution_count": 3,
   "metadata": {},
   "outputs": [
    {
     "name": "stdout",
     "output_type": "stream",
     "text": [
      "k= 0 k**2= 0\n",
      "k= 1 k**2= 1\n",
      "k= 2 k**2= 4\n",
      "k= 3 k**2= 9\n",
      "k= 4 k**2= 16\n"
     ]
    }
   ],
   "source": [
    "for k in [0,1,2,3,4]:\n",
    "    print(\"k=\",k,\"k**2=\",k**2)"
   ]
  },
  {
   "attachments": {},
   "cell_type": "markdown",
   "metadata": {},
   "source": [
    "Note that `k**2` is how you spell exponentiation (i.e., $k^2$) in python.\n",
    "\n",
    "A `for` loop always starts like `for foo in bar:`, where `foo` is the \"loop control variable\" and `bar` is something that can be iterated over, often a list or an array. There is a handy utility called `range` that can be used to generate an iterator on the fly."
   ]
  },
  {
   "cell_type": "code",
   "execution_count": 6,
   "metadata": {},
   "outputs": [
    {
     "name": "stdout",
     "output_type": "stream",
     "text": [
      "k= 0 k**2= 0\n",
      "k= 1 k**2= 1\n",
      "k= 2 k**2= 4\n",
      "k= 3 k**2= 9\n",
      "k= 4 k**2= 16\n"
     ]
    }
   ],
   "source": [
    "for k in range(5):\n",
    "    print(\"k=\",k,\"k**2=\",k**2)"
   ]
  },
  {
   "attachments": {},
   "cell_type": "markdown",
   "metadata": {},
   "source": [
    "Note that, by default, range starts with zero. We'll see how this is useful when we get to list indexing.\n",
    "\n",
    "### While Loops\n",
    "\n",
    "A while loop requires a condition that can, in principle, be either true or false. Here is an example of a while loop:"
   ]
  },
  {
   "cell_type": "code",
   "execution_count": 7,
   "metadata": {},
   "outputs": [
    {
     "name": "stdout",
     "output_type": "stream",
     "text": [
      "k= 0 k**2= 0\n",
      "k= 1 k**2= 1\n",
      "k= 2 k**2= 4\n",
      "k= 3 k**2= 9\n",
      "k= 4 k**2= 16\n"
     ]
    }
   ],
   "source": [
    "k = 0\n",
    "while k < 5:\n",
    "    print(\"k=\",k,\"k**2=\",k**2)\n",
    "    k = k + 1"
   ]
  },
  {
   "attachments": {},
   "cell_type": "markdown",
   "metadata": {},
   "source": [
    "Note that this loop does exactly the same thing as the for loop, but takes more typing. You have to \"set up\" the variables in the condition beforehand. You also need to manually adjust the variables used in the condition each time through the loop. Sometimes, this is a natural side effect of the calculation, so it's no *extra* work. The good thing about a `while` loop is that it's very general. There's nothing a `for` loop can do that a `while` loop can't. However, it takes more bookkeeping and typing. This is the price we pay for generality. In the context of differential equations, we'll more often be using the `while` loop, but not always."
   ]
  },
  {
   "attachments": {},
   "cell_type": "markdown",
   "metadata": {},
   "source": [
    "## Functions\n",
    "\n",
    "A *function* is a packaged bit of code that performs a specific task. Sometimes it returns a value, like a mathematical function (e.g., `np.sin(x)`), but sometimes it just does something but doesn't return anything (e.g., `print(\"hello\")`). You can define your own functions using the `def` keyword in python:"
   ]
  },
  {
   "cell_type": "code",
   "execution_count": 8,
   "metadata": {},
   "outputs": [],
   "source": [
    "def add3(x):\n",
    "    return x+3"
   ]
  },
  {
   "attachments": {},
   "cell_type": "markdown",
   "metadata": {},
   "source": [
    "This example, `add3`, is a simple function that accepts one argument `x`, and returns the value of `x` plus 3. Let's test it!"
   ]
  },
  {
   "cell_type": "code",
   "execution_count": 17,
   "metadata": {},
   "outputs": [
    {
     "name": "stdout",
     "output_type": "stream",
     "text": [
      "y = 8\n"
     ]
    }
   ],
   "source": [
    "y = add3(5)\n",
    "print(\"y =\",y)"
   ]
  },
  {
   "attachments": {},
   "cell_type": "markdown",
   "metadata": {},
   "source": [
    "Simple, right! One thing that sometimes confuses programmers who are first learning about functions is the nature of the arguments. The variables used as arguments in a function are just *placeholders*. They do not refer to variables of the same name in other parts of the program. Let's see how that works."
   ]
  },
  {
   "cell_type": "code",
   "execution_count": 16,
   "metadata": {},
   "outputs": [
    {
     "name": "stdout",
     "output_type": "stream",
     "text": [
      "x = 9 , y = 8\n"
     ]
    }
   ],
   "source": [
    "x = 9\n",
    "\n",
    "def add3(x):\n",
    "    return x+3\n",
    "\n",
    "y = add3(5)\n",
    "\n",
    "print(\"x =\", x, \", y =\",y)"
   ]
  },
  {
   "attachments": {},
   "cell_type": "markdown",
   "metadata": {},
   "source": [
    "Notice that even though `x` was equal to 5 in the function, the value of `x` outside the function was always 9. The arguments to a function, and the variables *assigned* in a function are called *local* variables. They don't refer to variables outside the function. If you don't *assign* a variable in a function, and it's not an argument, python will look outside the function to resolve the value of the varible. That's what's confusing!"
   ]
  },
  {
   "cell_type": "code",
   "execution_count": 18,
   "metadata": {},
   "outputs": [
    {
     "name": "stdout",
     "output_type": "stream",
     "text": [
      "x = 9 , y = 4 , z = 9\n"
     ]
    }
   ],
   "source": [
    "x = 9\n",
    "y = 4\n",
    "\n",
    "def add_y(x):\n",
    "    return x + y\n",
    "\n",
    "z = add_y(5)\n",
    "\n",
    "print(\"x =\", x, \", y =\", y, \", z =\",z)"
   ]
  },
  {
   "attachments": {},
   "cell_type": "markdown",
   "metadata": {},
   "source": [
    "What's the main point? You can define a function that accepts values, calculates things, and returns values. It's important to keep track of which variables are *local* and which are not. When possible all the information a function needs to do it's job should be passed in as arguments to the function."
   ]
  },
  {
   "cell_type": "code",
   "execution_count": null,
   "metadata": {},
   "outputs": [],
   "source": []
  }
 ],
 "metadata": {
  "kernelspec": {
   "display_name": "vsci",
   "language": "python",
   "name": "python3"
  },
  "language_info": {
   "codemirror_mode": {
    "name": "ipython",
    "version": 3
   },
   "file_extension": ".py",
   "mimetype": "text/x-python",
   "name": "python",
   "nbconvert_exporter": "python",
   "pygments_lexer": "ipython3",
   "version": "3.10.10"
  },
  "orig_nbformat": 4
 },
 "nbformat": 4,
 "nbformat_minor": 2
}
