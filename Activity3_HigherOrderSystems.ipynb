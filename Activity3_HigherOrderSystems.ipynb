{
  "cells": [
    {
      "attachments": {},
      "cell_type": "markdown",
      "metadata": {},
      "source": [
        "# Activity 3: Higher Order Systems\n",
        "\n",
        "For this unit the focus is on higher order systems of differential equations. We've already encountered one of these in Acitivty 2 with the mass on a spring. This was a *second* *order* *system* since the rate of change of position was equal to the velocity, and the rate of change of the velocity depended on the position.\n",
        "\n",
        "1) (definition of $v$)\n",
        "\n",
        "$$ \\frac{dx}{dt} = v $$ \n",
        "\n",
        "2) Since the spring force is $F=-kx$, but $F = ma = m dv/dt \\rightarrow a = -k x/m$ but $a=dv/dt$ so:\n",
        "\n",
        "$$ \\frac{dv}{dt} = -k x/m $$\n",
        "\n",
        "But note that $dv/dt$ can also be written as $d^2x/dt^2$ so:\n",
        "\n",
        "$$ \\frac{d^2x}{dt^2} + k x/m = 0 $$\n",
        "\n",
        "which is clearly a second order system since the highest derivative is a second derivative."
      ]
    },
    {
      "cell_type": "code",
      "execution_count": 2,
      "metadata": {
        "id": "RZVYLUnRZo2x"
      },
      "outputs": [],
      "source": [
        "import sympy as sp"
      ]
    },
    {
      "cell_type": "code",
      "execution_count": 3,
      "metadata": {
        "id": "Q6eze0oNawqW"
      },
      "outputs": [],
      "source": [
        "A,s = sp.symbols(\"A,s\")\n",
        "t = sp.symbols(\"t\", real=True)"
      ]
    },
    {
      "cell_type": "code",
      "execution_count": 4,
      "metadata": {
        "id": "KSCC-06qyq0S"
      },
      "outputs": [],
      "source": [
        "f = A*sp.exp(s*t)"
      ]
    },
    {
      "cell_type": "code",
      "execution_count": 5,
      "metadata": {
        "colab": {
          "base_uri": "https://localhost:8080/",
          "height": 38
        },
        "id": "O3R9G2FLyuZw",
        "outputId": "cb49220a-28aa-4915-abd4-15d0b2150a51"
      },
      "outputs": [
        {
          "data": {
            "text/latex": [
              "$\\displaystyle A s^{2} e^{s t} + 3 A s e^{s t} + 7 A e^{s t}$"
            ],
            "text/plain": [
              "A*s**2*exp(s*t) + 3*A*s*exp(s*t) + 7*A*exp(s*t)"
            ]
          },
          "execution_count": 5,
          "metadata": {},
          "output_type": "execute_result"
        }
      ],
      "source": [
        "de = f.diff(t).diff(t) + 3*f.diff(t) + 7*f\n",
        "de"
      ]
    },
    {
      "cell_type": "code",
      "execution_count": 6,
      "metadata": {
        "colab": {
          "base_uri": "https://localhost:8080/",
          "height": 38
        },
        "id": "EtJyXultzFiM",
        "outputId": "21c66aa4-cf9e-4cd6-e4c8-dab0b292f71e"
      },
      "outputs": [
        {
          "data": {
            "text/latex": [
              "$\\displaystyle A \\left(s^{2} + 3 s + 7\\right) e^{s t}$"
            ],
            "text/plain": [
              "A*(s**2 + 3*s + 7)*exp(s*t)"
            ]
          },
          "execution_count": 6,
          "metadata": {},
          "output_type": "execute_result"
        }
      ],
      "source": [
        "sp.factor(de)"
      ]
    },
    {
      "cell_type": "code",
      "execution_count": 7,
      "metadata": {
        "colab": {
          "base_uri": "https://localhost:8080/"
        },
        "id": "oW12fev6zN3X",
        "outputId": "1608dbb6-7723-4e3b-8792-e90a7604c3eb"
      },
      "outputs": [
        {
          "data": {
            "text/plain": [
              "[-3/2 - sqrt(19)*I/2, -3/2 + sqrt(19)*I/2]"
            ]
          },
          "execution_count": 7,
          "metadata": {},
          "output_type": "execute_result"
        }
      ],
      "source": [
        "sols = sp.solve(de,s)\n",
        "sols"
      ]
    },
    {
      "cell_type": "code",
      "execution_count": 8,
      "metadata": {
        "colab": {
          "base_uri": "https://localhost:8080/",
          "height": 503
        },
        "id": "VqFSVv4OzRX5",
        "outputId": "04675e62-94bc-4739-cb1b-93806e47e057"
      },
      "outputs": [
        {
          "data": {
            "image/png": "[encoded data removed]",
            "text/plain": [
              "<Figure size 640x480 with 1 Axes>"
            ]
          },
          "metadata": {},
          "output_type": "display_data"
        },
        {
          "data": {
            "text/plain": [
              "<sympy.plotting.plot.Plot at 0x10d67ef20>"
            ]
          },
          "execution_count": 8,
          "metadata": {},
          "output_type": "execute_result"
        }
      ],
      "source": [
        "sp.plot(sp.re(f.subs(s,sols[0]).subs(A,1)),(t,0,5))"
      ]
    },
    {
      "cell_type": "code",
      "execution_count": 9,
      "metadata": {
        "colab": {
          "base_uri": "https://localhost:8080/",
          "height": 68
        },
        "id": "Xcw4h4qRzbr_",
        "outputId": "1e282ce0-6fd1-4f83-ffb6-c79a46b1914f"
      },
      "outputs": [
        {
          "data": {
            "text/latex": [
              "$\\displaystyle e^{- \\frac{3 t}{2}} \\cos{\\left(\\frac{\\sqrt{19} t}{2} \\right)}$"
            ],
            "text/plain": [
              "exp(-3*t/2)*cos(sqrt(19)*t/2)"
            ]
          },
          "execution_count": 9,
          "metadata": {},
          "output_type": "execute_result"
        }
      ],
      "source": [
        "sp.re(f.subs(s,sols[0]).subs(A,1))"
      ]
    },
    {
      "cell_type": "code",
      "execution_count": 10,
      "metadata": {
        "colab": {
          "base_uri": "https://localhost:8080/"
        },
        "id": "P_Qm5gDE0DHD",
        "outputId": "7154a4ef-e9ed-4c38-b42a-1b68982854a9"
      },
      "outputs": [
        {
          "name": "stdout",
          "output_type": "stream",
          "text": [
            "Nothing done.\n"
          ]
        }
      ],
      "source": [
        "%reset \n",
        "# clear memory and start over"
      ]
    },
    {
      "cell_type": "code",
      "execution_count": 11,
      "metadata": {
        "id": "H3HPnWr_0zr5"
      },
      "outputs": [],
      "source": [
        "import sympy as sp"
      ]
    },
    {
      "cell_type": "code",
      "execution_count": 12,
      "metadata": {
        "id": "Tqq2ajOG02ES"
      },
      "outputs": [],
      "source": [
        "f = sp.symbols(\"f\", cls=sp.Function)\n",
        "t = sp.symbols(\"t\", real=True)"
      ]
    },
    {
      "cell_type": "code",
      "execution_count": 13,
      "metadata": {
        "colab": {
          "base_uri": "https://localhost:8080/",
          "height": 53
        },
        "id": "J7fJUmgF1x89",
        "outputId": "1c929389-25c2-44a1-c62d-22a678d63c9d"
      },
      "outputs": [
        {
          "data": {
            "text/latex": [
              "$\\displaystyle f{\\left(t \\right)} = \\frac{\\sin{\\left(3 t \\right)}}{3} + \\cos{\\left(3 t \\right)}$"
            ],
            "text/plain": [
              "Eq(f(t), sin(3*t)/3 + cos(3*t))"
            ]
          },
          "execution_count": 13,
          "metadata": {},
          "output_type": "execute_result"
        }
      ],
      "source": [
        "soln = sp.dsolve(f(t).diff(t,t) + 9*f(t),f(t), ics={f(0):1, f(t).diff(t).subs(t,0):1})\n",
        "soln"
      ]
    },
    {
      "cell_type": "code",
      "execution_count": 14,
      "metadata": {
        "colab": {
          "base_uri": "https://localhost:8080/",
          "height": 53
        },
        "id": "t_cIqtdC3G8R",
        "outputId": "3233b001-ff22-45a9-d012-eccb01bc736c"
      },
      "outputs": [
        {
          "data": {
            "text/latex": [
              "$\\displaystyle \\frac{\\sin{\\left(3 t \\right)}}{3} + \\cos{\\left(3 t \\right)}$"
            ],
            "text/plain": [
              "sin(3*t)/3 + cos(3*t)"
            ]
          },
          "execution_count": 14,
          "metadata": {},
          "output_type": "execute_result"
        }
      ],
      "source": [
        "soln.rhs"
      ]
    },
    {
      "cell_type": "code",
      "execution_count": 15,
      "metadata": {
        "colab": {
          "base_uri": "https://localhost:8080/",
          "height": 504
        },
        "id": "wVCToBoI2JQI",
        "outputId": "aad1eab9-3abb-47ae-e6a2-24fd543b3091"
      },
      "outputs": [
        {
          "data": {
            "image/png": "[encoded data removed]",
            "text/plain": [
              "<Figure size 640x480 with 1 Axes>"
            ]
          },
          "metadata": {},
          "output_type": "display_data"
        },
        {
          "data": {
            "text/plain": [
              "<sympy.plotting.plot.Plot at 0x10d353820>"
            ]
          },
          "execution_count": 15,
          "metadata": {},
          "output_type": "execute_result"
        }
      ],
      "source": [
        "sp.plot(soln.rhs,(t,0,5))"
      ]
    },
    {
      "cell_type": "code",
      "execution_count": null,
      "metadata": {
        "id": "rAS9aClt28Sj"
      },
      "outputs": [],
      "source": []
    },
    {
      "cell_type": "code",
      "execution_count": null,
      "metadata": {},
      "outputs": [],
      "source": []
    }
  ],
  "metadata": {
    "colab": {
      "provenance": []
    },
    "kernelspec": {
      "display_name": "Python 3",
      "name": "python3"
    },
    "language_info": {
      "codemirror_mode": {
        "name": "ipython",
        "version": 3
      },
      "file_extension": ".py",
      "mimetype": "text/x-python",
      "name": "python",
      "nbconvert_exporter": "python",
      "pygments_lexer": "ipython3",
      "version": "3.10.10"
    }
  },
  "nbformat": 4,
  "nbformat_minor": 0
}
