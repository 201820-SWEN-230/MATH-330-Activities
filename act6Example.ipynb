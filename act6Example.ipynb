{
  "cells": [
    {
      "cell_type": "code",
      "execution_count": 2,
      "metadata": {
        "colab": {
          "base_uri": "https://localhost:8080/"
        },
        "id": "pIRCzgITDaxE",
        "outputId": "2e688197-12a7-4bf4-9dd8-7bcc4f02e843"
      },
      "outputs": [
        {
          "name": "stdout",
          "output_type": "stream",
          "text": [
            "Requirement already satisfied: sympy in /usr/local/lib/python3.10/dist-packages (1.11.1)\n",
            "Collecting sympy\n",
            "  Downloading sympy-1.12-py3-none-any.whl (5.7 MB)\n",
            "\u001b[2K     \u001b[90m━━━━━━━━━━━━━━━━━━━━━━━━━━━━━━━━━━━━━━━━\u001b[0m \u001b[32m5.7/5.7 MB\u001b[0m \u001b[31m12.4 MB/s\u001b[0m eta \u001b[36m0:00:00\u001b[0m\n",
            "\u001b[?25hRequirement already satisfied: mpmath>=0.19 in /usr/local/lib/python3.10/dist-packages (from sympy) (1.3.0)\n",
            "Installing collected packages: sympy\n",
            "  Attempting uninstall: sympy\n",
            "    Found existing installation: sympy 1.11.1\n",
            "    Uninstalling sympy-1.11.1:\n",
            "      Successfully uninstalled sympy-1.11.1\n",
            "Successfully installed sympy-1.12\n"
          ]
        }
      ],
      "source": [
        "#!pip install -U sympy"
      ]
    },
    {
      "cell_type": "code",
      "execution_count": 3,
      "metadata": {
        "colab": {
          "base_uri": "https://localhost:8080/",
          "height": 35
        },
        "id": "-d5HtU7ID8Ur",
        "outputId": "d0e0da9c-d981-4f3b-bda1-1e31a0eb0594"
      },
      "outputs": [
        {
          "data": {
            "application/vnd.google.colaboratory.intrinsic+json": {
              "type": "string"
            },
            "text/plain": [
              "'1.12'"
            ]
          },
          "execution_count": 3,
          "metadata": {},
          "output_type": "execute_result"
        }
      ],
      "source": [
        "import sympy as sp\n",
        "sp.__version__"
      ]
    },
    {
      "cell_type": "code",
      "execution_count": 4,
      "metadata": {
        "id": "ohjirgJwDfrz"
      },
      "outputs": [],
      "source": [
        "s=sp.symbols(\"s\")\n",
        "t=sp.symbols(\"t\", real=True, positive=True)"
      ]
    },
    {
      "cell_type": "code",
      "execution_count": 5,
      "metadata": {
        "colab": {
          "base_uri": "https://localhost:8080/",
          "height": 58
        },
        "id": "FLY89pJ7LtHi",
        "outputId": "bb36f7c3-58b9-420a-dfce-e4e4337dbab7"
      },
      "outputs": [
        {
          "data": {
            "text/latex": [
              "$\\displaystyle \\left[\\begin{matrix}-1 & 0\\\\1 & -2\\end{matrix}\\right]$"
            ],
            "text/plain": [
              "Matrix([\n",
              "[-1,  0],\n",
              "[ 1, -2]])"
            ]
          },
          "execution_count": 5,
          "metadata": {},
          "output_type": "execute_result"
        }
      ],
      "source": [
        "A=sp.Matrix([[-1,0],[1,-2]])\n",
        "A"
      ]
    },
    {
      "cell_type": "code",
      "execution_count": 6,
      "metadata": {
        "colab": {
          "base_uri": "https://localhost:8080/"
        },
        "id": "BcugCcGZL-72",
        "outputId": "e732aeac-64eb-4699-93e3-9efa7d7f6df7"
      },
      "outputs": [
        {
          "data": {
            "text/plain": [
              "(Matrix([\n",
              " [0, 1],\n",
              " [1, 1]]),\n",
              " Matrix([\n",
              " [-2,  0],\n",
              " [ 0, -1]]))"
            ]
          },
          "execution_count": 6,
          "metadata": {},
          "output_type": "execute_result"
        }
      ],
      "source": [
        "P,D=A.diagonalize()\n",
        "P,D"
      ]
    },
    {
      "cell_type": "code",
      "execution_count": 7,
      "metadata": {
        "colab": {
          "base_uri": "https://localhost:8080/",
          "height": 58
        },
        "id": "96iE6wiDMIHh",
        "outputId": "71ec6456-f5d9-41a5-f2c7-e19f636b1d66"
      },
      "outputs": [
        {
          "data": {
            "text/latex": [
              "$\\displaystyle \\left[\\begin{matrix}-1 & 1\\\\1 & 0\\end{matrix}\\right]$"
            ],
            "text/plain": [
              "Matrix([\n",
              "[-1, 1],\n",
              "[ 1, 0]])"
            ]
          },
          "execution_count": 7,
          "metadata": {},
          "output_type": "execute_result"
        }
      ],
      "source": [
        "P.inv()"
      ]
    },
    {
      "cell_type": "markdown",
      "metadata": {
        "id": "flAP5jB07w38"
      },
      "source": [
        "Let's use initial conditions $y_1=2$, $y_2=1$. Note that with these initial conditions $dy_2/dt = 0$ when $t=0$."
      ]
    },
    {
      "cell_type": "code",
      "execution_count": 8,
      "metadata": {
        "id": "BsF05F-hMihj"
      },
      "outputs": [],
      "source": [
        "y0 = sp.Matrix([2,1])"
      ]
    },
    {
      "cell_type": "code",
      "execution_count": 9,
      "metadata": {
        "colab": {
          "base_uri": "https://localhost:8080/",
          "height": 58
        },
        "id": "5uTjEk1wNJPm",
        "outputId": "3b64a7bb-2208-4d67-e8ca-a97404be2c47"
      },
      "outputs": [
        {
          "data": {
            "text/latex": [
              "$\\displaystyle \\left[\\begin{matrix}2 e^{- t}\\\\2 e^{- t} - e^{- 2 t}\\end{matrix}\\right]$"
            ],
            "text/plain": [
              "Matrix([\n",
              "[            2*exp(-t)],\n",
              "[2*exp(-t) - exp(-2*t)]])"
            ]
          },
          "execution_count": 9,
          "metadata": {},
          "output_type": "execute_result"
        }
      ],
      "source": [
        "Y=P*sp.exp(D*t)*P.inv()*y0\n",
        "Y"
      ]
    },
    {
      "cell_type": "code",
      "execution_count": 10,
      "metadata": {
        "colab": {
          "base_uri": "https://localhost:8080/",
          "height": 501
        },
        "id": "tBT2SSFlN6l4",
        "outputId": "016106ea-4790-4429-c289-c6a63ffdcce2"
      },
      "outputs": [
        {
          "data": {
            "image/png": "[encoded data removed]",
            "text/plain": [
              "<Figure size 640x480 with 1 Axes>"
            ]
          },
          "metadata": {},
          "output_type": "display_data"
        },
        {
          "data": {
            "text/plain": [
              "<sympy.plotting.plot.Plot at 0x78babb535ea0>"
            ]
          },
          "execution_count": 10,
          "metadata": {},
          "output_type": "execute_result"
        }
      ],
      "source": [
        "sp.plot(*[Y[i] for i in range(len(Y))],(t,0,10))"
      ]
    },
    {
      "cell_type": "markdown",
      "metadata": {
        "id": "-L3LvcAi7lAK"
      },
      "source": [
        "Let's solve the homogeneous problem again using the Laplace Transform with the same initial conditions."
      ]
    },
    {
      "cell_type": "code",
      "execution_count": 11,
      "metadata": {
        "colab": {
          "base_uri": "https://localhost:8080/",
          "height": 52
        },
        "id": "5F9UXzJ5aloC",
        "outputId": "70750885-9721-415a-cb8f-e8b55cc31137"
      },
      "outputs": [
        {
          "data": {
            "text/latex": [
              "$\\displaystyle \\frac{s + 3}{s^{2} + 3 s + 2}$"
            ],
            "text/plain": [
              "(s + 3)/(s**2 + 3*s + 2)"
            ]
          },
          "execution_count": 11,
          "metadata": {},
          "output_type": "execute_result"
        }
      ],
      "source": [
        "Y = (s+3)/(s**2+3*s+2)\n",
        "Y"
      ]
    },
    {
      "cell_type": "code",
      "execution_count": 12,
      "metadata": {
        "colab": {
          "base_uri": "https://localhost:8080/",
          "height": 52
        },
        "id": "ZTQ9cbpRa_Ap",
        "outputId": "27c9e710-3cba-425f-819b-cdb6de809000"
      },
      "outputs": [
        {
          "data": {
            "text/latex": [
              "$\\displaystyle - \\frac{1}{s + 2} + \\frac{2}{s + 1}$"
            ],
            "text/plain": [
              "-1/(s + 2) + 2/(s + 1)"
            ]
          },
          "execution_count": 12,
          "metadata": {},
          "output_type": "execute_result"
        }
      ],
      "source": [
        "Y.apart()"
      ]
    },
    {
      "cell_type": "code",
      "execution_count": 13,
      "metadata": {
        "colab": {
          "base_uri": "https://localhost:8080/",
          "height": 38
        },
        "id": "GltrTuhtawFY",
        "outputId": "505cc422-4c3f-4553-e4aa-203fdfa3c674"
      },
      "outputs": [
        {
          "data": {
            "text/latex": [
              "$\\displaystyle 2 e^{- t} - e^{- 2 t}$"
            ],
            "text/plain": [
              "2*exp(-t) - exp(-2*t)"
            ]
          },
          "execution_count": 13,
          "metadata": {},
          "output_type": "execute_result"
        }
      ],
      "source": [
        "sp.inverse_laplace_transform(Y,s,t)"
      ]
    },
    {
      "cell_type": "markdown",
      "metadata": {
        "id": "XIVjbTxX8E8b"
      },
      "source": [
        "Let's now apply a pulse to the system starting at rest. (so make the initial contitions $y_2(0)=0$, and $dy_2/dt(0)=0$. We worked out the Laplace Transform of a pulse in the Activity 6 notebook."
      ]
    },
    {
      "cell_type": "code",
      "execution_count": 14,
      "metadata": {
        "colab": {
          "base_uri": "https://localhost:8080/",
          "height": 53
        },
        "id": "fj5wi6zSbMy3",
        "outputId": "f7ded065-fd61-4606-a9f0-4ec390f55653"
      },
      "outputs": [
        {
          "data": {
            "text/latex": [
              "$\\displaystyle \\frac{1 - e^{- s}}{s}$"
            ],
            "text/plain": [
              "(1 - exp(-s))/s"
            ]
          },
          "execution_count": 14,
          "metadata": {},
          "output_type": "execute_result"
        }
      ],
      "source": [
        "X=(1-sp.exp(-s))/s\n",
        "X"
      ]
    },
    {
      "cell_type": "markdown",
      "metadata": {
        "id": "N-EOHthQ8bhU"
      },
      "source": [
        "Let's check that we really get a pulse. Yes!"
      ]
    },
    {
      "cell_type": "code",
      "execution_count": 15,
      "metadata": {
        "colab": {
          "base_uri": "https://localhost:8080/",
          "height": 38
        },
        "id": "mlsJd2f8cOno",
        "outputId": "7dc06976-e21c-4718-d5c2-257bacb58f3f"
      },
      "outputs": [
        {
          "data": {
            "text/latex": [
              "$\\displaystyle 1 - \\theta\\left(t - 1\\right)$"
            ],
            "text/plain": [
              "1 - Heaviside(t - 1)"
            ]
          },
          "execution_count": 15,
          "metadata": {},
          "output_type": "execute_result"
        }
      ],
      "source": [
        "x=sp.inverse_laplace_transform(X,s,t)\n",
        "x"
      ]
    },
    {
      "cell_type": "code",
      "execution_count": 16,
      "metadata": {
        "colab": {
          "base_uri": "https://localhost:8080/",
          "height": 57
        },
        "id": "rsiR6rFebWLS",
        "outputId": "3767f3bd-b882-4291-b6c5-3c73990f4c79"
      },
      "outputs": [
        {
          "data": {
            "text/latex": [
              "$\\displaystyle \\frac{1 - e^{- s}}{s \\left(s^{2} + 3 s + 2\\right)}$"
            ],
            "text/plain": [
              "(1 - exp(-s))/(s*(s**2 + 3*s + 2))"
            ]
          },
          "execution_count": 16,
          "metadata": {},
          "output_type": "execute_result"
        }
      ],
      "source": [
        "Y=X/(s**2+3*s+2) # the Laplace Transform of the solution.\n",
        "Y"
      ]
    },
    {
      "cell_type": "code",
      "execution_count": 17,
      "metadata": {
        "colab": {
          "base_uri": "https://localhost:8080/",
          "height": 56
        },
        "id": "5ELylq6sbi5w",
        "outputId": "c264aad6-6e48-4fd8-a091-921a1fbee9e9"
      },
      "outputs": [
        {
          "data": {
            "text/latex": [
              "$\\displaystyle \\frac{\\left(- \\left(e^{2 t} - 2 e^{t + 1} + e^{2}\\right) \\theta\\left(t - 1\\right) + e^{2 t} - 2 e^{t} + 1\\right) e^{- 2 t}}{2}$"
            ],
            "text/plain": [
              "(-(exp(2*t) - 2*exp(t + 1) + exp(2))*Heaviside(t - 1) + exp(2*t) - 2*exp(t) + 1)*exp(-2*t)/2"
            ]
          },
          "execution_count": 17,
          "metadata": {},
          "output_type": "execute_result"
        }
      ],
      "source": [
        "y2=sp.inverse_laplace_transform(Y,s,t)\n",
        "y2"
      ]
    },
    {
      "cell_type": "code",
      "execution_count": 18,
      "metadata": {
        "colab": {
          "base_uri": "https://localhost:8080/",
          "height": 68
        },
        "id": "QKdLeTOIb5Ng",
        "outputId": "800f1daa-fbfe-4a24-822b-e24137ae5d28"
      },
      "outputs": [
        {
          "data": {
            "text/latex": [
              "$\\displaystyle \\left(- \\left(e^{2 t} - e^{t + 1}\\right) \\theta\\left(t - 1\\right) - \\frac{\\left(e^{2 t} - 2 e^{t + 1} + e^{2}\\right) \\delta\\left(t - 1\\right)}{2} + e^{2 t} - e^{t}\\right) e^{- 2 t}$"
            ],
            "text/plain": [
              "(-(exp(2*t) - exp(t + 1))*Heaviside(t - 1) - (exp(2*t) - 2*exp(t + 1) + exp(2))*DiracDelta(t - 1)/2 + exp(2*t) - exp(t))*exp(-2*t)"
            ]
          },
          "execution_count": 18,
          "metadata": {},
          "output_type": "execute_result"
        }
      ],
      "source": [
        "y1=y2.diff(t)+2*y2\n",
        "sp.simplify(y1)"
      ]
    },
    {
      "cell_type": "code",
      "execution_count": 19,
      "metadata": {
        "colab": {
          "base_uri": "https://localhost:8080/",
          "height": 501
        },
        "id": "rxKq9MrucIJZ",
        "outputId": "cffe307f-686f-4a25-b01e-a01617e9306f"
      },
      "outputs": [
        {
          "data": {
            "image/png": "[encoded data removed]",
            "text/plain": [
              "<Figure size 640x480 with 1 Axes>"
            ]
          },
          "metadata": {},
          "output_type": "display_data"
        },
        {
          "data": {
            "text/plain": [
              "<sympy.plotting.plot.Plot at 0x78bab8f2f550>"
            ]
          },
          "execution_count": 19,
          "metadata": {},
          "output_type": "execute_result"
        }
      ],
      "source": [
        "sp.plot(y1,y2,x,(t,0,10))"
      ]
    },
    {
      "cell_type": "markdown",
      "metadata": {
        "id": "qHi7Tl8x8ye0"
      },
      "source": [
        "Just for fun, here's the \"Activity 7\" approach."
      ]
    },
    {
      "cell_type": "code",
      "execution_count": 20,
      "metadata": {
        "colab": {
          "base_uri": "https://localhost:8080/",
          "height": 58
        },
        "id": "unFIqCwiOK6B",
        "outputId": "8bf26912-a3c6-4c05-ffc6-920cbdc0b222"
      },
      "outputs": [
        {
          "data": {
            "text/latex": [
              "$\\displaystyle \\left[\\begin{matrix}s + 1 & 0\\\\-1 & s + 2\\end{matrix}\\right]$"
            ],
            "text/plain": [
              "Matrix([\n",
              "[s + 1,     0],\n",
              "[   -1, s + 2]])"
            ]
          },
          "execution_count": 20,
          "metadata": {},
          "output_type": "execute_result"
        }
      ],
      "source": [
        "SMA = sp.diag(s,s) - A\n",
        "SMA"
      ]
    },
    {
      "cell_type": "code",
      "execution_count": 21,
      "metadata": {
        "colab": {
          "base_uri": "https://localhost:8080/",
          "height": 60
        },
        "id": "ECczHtzXMR8a",
        "outputId": "43d389e4-6226-4498-d575-e7b679cd11a9"
      },
      "outputs": [
        {
          "data": {
            "text/latex": [
              "$\\displaystyle \\left[\\begin{matrix}\\frac{1 - e^{- s}}{s}\\\\0\\end{matrix}\\right]$"
            ],
            "text/plain": [
              "Matrix([\n",
              "[(1 - exp(-s))/s],\n",
              "[              0]])"
            ]
          },
          "execution_count": 21,
          "metadata": {},
          "output_type": "execute_result"
        }
      ],
      "source": [
        "X = sp.Matrix([(1-sp.exp(-s))/s,0])\n",
        "X"
      ]
    },
    {
      "cell_type": "code",
      "execution_count": 22,
      "metadata": {
        "colab": {
          "base_uri": "https://localhost:8080/",
          "height": 58
        },
        "id": "18u5HveIWcS_",
        "outputId": "3a37f635-78c9-4e08-bba1-60c659668378"
      },
      "outputs": [
        {
          "data": {
            "text/latex": [
              "$\\displaystyle \\left[\\begin{matrix}1 - \\theta\\left(t - 1\\right)\\\\0\\end{matrix}\\right]$"
            ],
            "text/plain": [
              "Matrix([\n",
              "[1 - Heaviside(t - 1)],\n",
              "[                   0]])"
            ]
          },
          "execution_count": 22,
          "metadata": {},
          "output_type": "execute_result"
        }
      ],
      "source": [
        "x = sp.inverse_laplace_transform(X,s,t)\n",
        "x"
      ]
    },
    {
      "cell_type": "code",
      "execution_count": 23,
      "metadata": {
        "colab": {
          "base_uri": "https://localhost:8080/",
          "height": 68
        },
        "id": "sq6yiG5WMZqe",
        "outputId": "57d75cd5-6749-407c-852d-e311b0dc09dc"
      },
      "outputs": [
        {
          "data": {
            "text/latex": [
              "$\\displaystyle \\left[\\begin{matrix}\\frac{1 - e^{- s}}{s \\left(s + 1\\right)}\\\\- \\frac{1 - e^{- s}}{s \\left(- s^{2} - 3 s - 2\\right)}\\end{matrix}\\right]$"
            ],
            "text/plain": [
              "Matrix([\n",
              "[           (1 - exp(-s))/(s*(s + 1))],\n",
              "[-(1 - exp(-s))/(s*(-s**2 - 3*s - 2))]])"
            ]
          },
          "execution_count": 23,
          "metadata": {},
          "output_type": "execute_result"
        }
      ],
      "source": [
        "Y = SMA.inv()*(X)\n",
        "Y"
      ]
    },
    {
      "cell_type": "code",
      "execution_count": 24,
      "metadata": {
        "colab": {
          "base_uri": "https://localhost:8080/",
          "height": 68
        },
        "id": "H1aP3Q52M1eR",
        "outputId": "abbe726d-7fca-4bb2-c013-cfda7ef0500b"
      },
      "outputs": [
        {
          "data": {
            "text/latex": [
              "$\\displaystyle \\left[\\begin{matrix}\\left(- \\left(e^{t} - e\\right) \\theta\\left(t - 1\\right) + e^{t} - 1\\right) e^{- t}\\\\- \\frac{\\left(\\left(e^{2 t} - 2 e^{t + 1} + e^{2}\\right) \\theta\\left(t - 1\\right) - e^{2 t} + 2 e^{t} - 1\\right) e^{- 2 t}}{2}\\end{matrix}\\right]$"
            ],
            "text/plain": [
              "Matrix([\n",
              "[                                       (-(exp(t) - E)*Heaviside(t - 1) + exp(t) - 1)*exp(-t)],\n",
              "[-((exp(2*t) - 2*exp(t + 1) + exp(2))*Heaviside(t - 1) - exp(2*t) + 2*exp(t) - 1)*exp(-2*t)/2]])"
            ]
          },
          "execution_count": 24,
          "metadata": {},
          "output_type": "execute_result"
        }
      ],
      "source": [
        "Yt = sp.inverse_laplace_transform(Y,s,t)\n",
        "Yt"
      ]
    },
    {
      "cell_type": "code",
      "execution_count": 25,
      "metadata": {
        "colab": {
          "base_uri": "https://localhost:8080/",
          "height": 501
        },
        "id": "mqkM0jovM9UA",
        "outputId": "847bc73a-d58c-4db7-debb-d230752f6eef"
      },
      "outputs": [
        {
          "data": {
            "image/png": "[encoded data removed]",
            "text/plain": [
              "<Figure size 640x480 with 1 Axes>"
            ]
          },
          "metadata": {},
          "output_type": "display_data"
        },
        {
          "data": {
            "text/plain": [
              "<sympy.plotting.plot.Plot at 0x78bab8f2f4c0>"
            ]
          },
          "execution_count": 25,
          "metadata": {},
          "output_type": "execute_result"
        }
      ],
      "source": [
        "sp.plot(x[0],Yt[0],Yt[1],(t,0,10))"
      ]
    },
    {
      "cell_type": "code",
      "execution_count": 25,
      "metadata": {
        "id": "E-xcTwnSNMLv"
      },
      "outputs": [],
      "source": []
    }
  ],
  "metadata": {
    "colab": {
      "provenance": []
    },
    "kernelspec": {
      "display_name": "Python 3",
      "name": "python3"
    },
    "language_info": {
      "name": "python"
    }
  },
  "nbformat": 4,
  "nbformat_minor": 0
}
