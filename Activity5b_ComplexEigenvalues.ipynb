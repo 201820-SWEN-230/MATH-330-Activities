{
 "cells": [
  {
   "cell_type": "code",
   "execution_count": 1,
   "metadata": {},
   "outputs": [],
   "source": [
    "import sympy as sp\n",
    "import numpy as np\n",
    "import matplotlib.pyplot as plt"
   ]
  },
  {
   "cell_type": "markdown",
   "metadata": {},
   "source": [
    "# Activity 5b: Homogeneous Linear Systems with Complex Eigenvalues"
   ]
  },
  {
   "cell_type": "markdown",
   "metadata": {},
   "source": [
    "Let's recap what we learned last time! \n",
    "\n",
    "1. You can find the solutions to a homogeneous linear system of differential equations by investigating the eigenvalues ($\\lambda_i$) and eigenvectors ($\\vec{v}_i$) of the system.\n",
    "2. If the eigenvalues are distinct and *real* the solution is a superposition of each eigenvector muptiplied by $e^{\\lambda_i t}$.\n",
    "3. You can solve for the coefficients of the superposition by imposing initial conditions on the problem.\n",
    "\n",
    "In this activity we're only going to generalize a *little* bit. We'll allow for *complex* eigenvalues and eigenvectors.\n",
    "\n",
    "How does this change the answer? My goal is to convince you that it actually changes nothing. The same exact solutions _still_ _work_.\n",
    "\n",
    "The problem is that it's a bit harder to work with complex solutions manually (pencil and paper) so math teachers have cooked up a lot of instruction about how to write things in terms of real trigonometric functions. However the symbolic algebra packages (e.g., sympy) don't have any problem with complex numbers! Let's see how this works and how we can still use sympy to get solutions that even a math instructor would accept!\n",
    "\n",
    "Here's an example problem. \n",
    "\n",
    "suppose we have two populations of ill fated bacteria, $y_1$ and $y_2$. They have the following coupling equations:\n",
    "\n",
    "\\begin{align}\n",
    "dy_1/dt & = y_1 - 2 y_2 \\\\\n",
    "dy_2/dt & = 6 y_1 - 6 y_2\n",
    "\\end{align}"
   ]
  },
  {
   "cell_type": "code",
   "execution_count": 21,
   "metadata": {},
   "outputs": [
    {
     "data": {
      "text/plain": [
       "(Matrix([\n",
       " [1, 2],\n",
       " [2, 3]]),\n",
       " Matrix([\n",
       " [-3,  0],\n",
       " [ 0, -2]]))"
      ]
     },
     "execution_count": 21,
     "metadata": {},
     "output_type": "execute_result"
    }
   ],
   "source": [
    "t = sp.symbols(\"t\", real=True)\n",
    "A = sp.Matrix([[1,-2],[6,-6]])\n",
    "P,D = A.diagonalize()\n",
    "P,D"
   ]
  },
  {
   "cell_type": "markdown",
   "metadata": {},
   "source": [
    "So you can see we've got two distinct real eigenvalues. Suppose at $t=0$ we have $y_1=20$ and $y_2=10$. What are the solutions? Well from activity 5a it's easy:\n",
    "\n",
    "$$ \\vec{y}(t) = P e^{Dt} P^{-1} \\vec{y}(0) $$"
   ]
  },
  {
   "cell_type": "code",
   "execution_count": 22,
   "metadata": {},
   "outputs": [
    {
     "data": {
      "text/latex": [
       "$\\displaystyle \\left[\\begin{matrix}60 e^{- 2 t} - 40 e^{- 3 t}\\\\90 e^{- 2 t} - 80 e^{- 3 t}\\end{matrix}\\right]$"
      ],
      "text/plain": [
       "Matrix([\n",
       "[60*exp(-2*t) - 40*exp(-3*t)],\n",
       "[90*exp(-2*t) - 80*exp(-3*t)]])"
      ]
     },
     "execution_count": 22,
     "metadata": {},
     "output_type": "execute_result"
    }
   ],
   "source": [
    "y_soln = P*sp.exp(D*t)*P.inv()*sp.Matrix([20,10])\n",
    "y_soln"
   ]
  },
  {
   "cell_type": "code",
   "execution_count": 23,
   "metadata": {},
   "outputs": [
    {
     "data": {
      "image/png": "[encoded data removed]",
      "text/plain": [
       "<Figure size 640x480 with 1 Axes>"
      ]
     },
     "metadata": {},
     "output_type": "display_data"
    },
    {
     "data": {
      "text/plain": [
       "<sympy.plotting.plot.Plot at 0x12738cf10>"
      ]
     },
     "execution_count": 23,
     "metadata": {},
     "output_type": "execute_result"
    }
   ],
   "source": [
    "sp.plot(y_soln[0],y_soln[1],(t,0,5))"
   ]
  },
  {
   "cell_type": "markdown",
   "metadata": {},
   "source": [
    "Bingo! That was easy! You see what I mean by \"ill fated\"? \n",
    "\n",
    "Now suppose we had some other bacterial that had the same basic relationship, but *different* coefficients? Also, let's assume that $y_1$ and $y_2$ here measure not the absolute population, but rather the deviation of the population from a fixed point. This way positive and negative numbers are OK. Note this is commonly done when dealing with non-linear problems, which we'll encounter later in the course.\n",
    "\n",
    "\\begin{align}\n",
    "dy_1/dt & = -3 y_1 + 1 y_2 \\\\\n",
    "dy_2/dt & = -2 y_1 - 1 y_2\n",
    "\\end{align}"
   ]
  },
  {
   "cell_type": "markdown",
   "metadata": {},
   "source": [
    "How would this population behave differently?"
   ]
  },
  {
   "cell_type": "code",
   "execution_count": 47,
   "metadata": {},
   "outputs": [
    {
     "data": {
      "text/plain": [
       "(Matrix([\n",
       " [1 + I, 1 - I],\n",
       " [    2,     2]]),\n",
       " Matrix([\n",
       " [-2 - I,      0],\n",
       " [     0, -2 + I]]))"
      ]
     },
     "execution_count": 47,
     "metadata": {},
     "output_type": "execute_result"
    }
   ],
   "source": [
    "t = sp.symbols(\"t\", real=True)\n",
    "A = sp.Matrix([[-3,1],[-2,-1]])\n",
    "P,D = A.diagonalize()\n",
    "P,D"
   ]
  },
  {
   "cell_type": "markdown",
   "metadata": {},
   "source": [
    "What? Note that both the eigenvalues, *and* the eigenvectors are *complex*. Also, note that they are also complex conjugates of one another.\n",
    "\n",
    "How can we solve this system? What if we just did the same thing and ignored the fact that the eigenvalues and eigenvectors are complex?"
   ]
  },
  {
   "cell_type": "code",
   "execution_count": 48,
   "metadata": {},
   "outputs": [
    {
     "data": {
      "text/latex": [
       "$\\displaystyle \\left[\\begin{matrix}- 10 i \\left(1 + i\\right) e^{t \\left(-2 - i\\right)} + 10 \\cdot \\left(\\frac{1}{4} + \\frac{i}{4}\\right) \\left(1 + i\\right) e^{t \\left(-2 - i\\right)} + 10 \\cdot \\left(\\frac{1}{4} - \\frac{i}{4}\\right) \\left(1 - i\\right) e^{t \\left(-2 + i\\right)} + 10 i \\left(1 - i\\right) e^{t \\left(-2 + i\\right)}\\\\- 20 i e^{t \\left(-2 - i\\right)} + 20 \\cdot \\left(\\frac{1}{4} + \\frac{i}{4}\\right) e^{t \\left(-2 - i\\right)} + 20 \\cdot \\left(\\frac{1}{4} - \\frac{i}{4}\\right) e^{t \\left(-2 + i\\right)} + 20 i e^{t \\left(-2 + i\\right)}\\end{matrix}\\right]$"
      ],
      "text/plain": [
       "Matrix([\n",
       "[-10*I*(1 + I)*exp(t*(-2 - I)) + 10*(1/4 + I/4)*(1 + I)*exp(t*(-2 - I)) + 10*(1/4 - I/4)*(1 - I)*exp(t*(-2 + I)) + 10*I*(1 - I)*exp(t*(-2 + I))],\n",
       "[                                -20*I*exp(t*(-2 - I)) + 20*(1/4 + I/4)*exp(t*(-2 - I)) + 20*(1/4 - I/4)*exp(t*(-2 + I)) + 20*I*exp(t*(-2 + I))]])"
      ]
     },
     "execution_count": 48,
     "metadata": {},
     "output_type": "execute_result"
    }
   ],
   "source": [
    "y_soln = P*sp.exp(D*t)*P.inv()*sp.Matrix([20,10])\n",
    "y_soln"
   ]
  },
  {
   "cell_type": "markdown",
   "metadata": {},
   "source": [
    "Yikes! That looks complicated! But wait. Look carefully at the solutions. Each term is added to another term that is its exact complex conjugate. What does this mean? It means that the *sum* is automatically *real*. We cannot help but to get a real solution. The eigenvalues and eigen vectors always come in conjugate pairs. The initial conditions are always real, so when you solve you get superposition coefficients that are *also* conjugate pairs, this means the solution will always be *real* without fail."
   ]
  },
  {
   "cell_type": "code",
   "execution_count": 49,
   "metadata": {},
   "outputs": [
    {
     "data": {
      "image/png": "[encoded data removed]",
      "text/plain": [
       "<Figure size 640x480 with 1 Axes>"
      ]
     },
     "metadata": {},
     "output_type": "display_data"
    },
    {
     "data": {
      "text/plain": [
       "<sympy.plotting.plot.Plot at 0x1274a7190>"
      ]
     },
     "execution_count": 49,
     "metadata": {},
     "output_type": "execute_result"
    }
   ],
   "source": [
    "sp.plot(y_soln[0],y_soln[1],(t,0,5))"
   ]
  },
  {
   "cell_type": "markdown",
   "metadata": {},
   "source": [
    "Perfect! But how can we get a real solution that's easier to understand that all those complex exponentials? We can use the `as_real_imag()` function to do that:"
   ]
  },
  {
   "cell_type": "code",
   "execution_count": 50,
   "metadata": {},
   "outputs": [
    {
     "data": {
      "text/latex": [
       "$\\displaystyle \\left[\\begin{matrix}- 10 e^{- 2 t} \\sin{\\left(t \\right)} + 20 e^{- 2 t} \\cos{\\left(t \\right)}\\\\- 30 e^{- 2 t} \\sin{\\left(t \\right)} + 10 e^{- 2 t} \\cos{\\left(t \\right)}\\end{matrix}\\right]$"
      ],
      "text/plain": [
       "Matrix([\n",
       "[-10*exp(-2*t)*sin(t) + 20*exp(-2*t)*cos(t)],\n",
       "[-30*exp(-2*t)*sin(t) + 10*exp(-2*t)*cos(t)]])"
      ]
     },
     "execution_count": 50,
     "metadata": {},
     "output_type": "execute_result"
    }
   ],
   "source": [
    "re_part, im_part = y_soln.as_real_imag()\n",
    "re_part"
   ]
  },
  {
   "cell_type": "code",
   "execution_count": 51,
   "metadata": {},
   "outputs": [
    {
     "data": {
      "text/latex": [
       "$\\displaystyle \\left[\\begin{matrix}0\\\\0\\end{matrix}\\right]$"
      ],
      "text/plain": [
       "Matrix([\n",
       "[0],\n",
       "[0]])"
      ]
     },
     "execution_count": 51,
     "metadata": {},
     "output_type": "execute_result"
    }
   ],
   "source": [
    "im_part"
   ]
  },
  {
   "cell_type": "markdown",
   "metadata": {},
   "source": [
    "As you can see, the imaginary part of the final solution was in fact, zero.\n",
    "\n",
    "You can also see that the `as_real_imag()` function is the key to getting answers for homework. Suppose the homework wanted you to write the general solution in terms of real functions an unknown coefficients? We could invent unknown coefficients $c_1$ and $c_2$ and solve for those:"
   ]
  },
  {
   "cell_type": "code",
   "execution_count": 52,
   "metadata": {},
   "outputs": [],
   "source": [
    "c1,c2=sp.symbols(\"c1 c2\",real=True)"
   ]
  },
  {
   "cell_type": "markdown",
   "metadata": {},
   "source": [
    "If we look at one of the eigenvectors multiplied by the corresponding exponential and break it into real and imaginary parts, those parts will end up being independent. We could create a real general solution by superposing those parts:"
   ]
  },
  {
   "cell_type": "code",
   "execution_count": 53,
   "metadata": {},
   "outputs": [
    {
     "data": {
      "text/latex": [
       "$\\displaystyle \\left[\\begin{matrix}\\left(1 + i\\right) e^{t \\left(-2 - i\\right)}\\\\2 e^{t \\left(-2 - i\\right)}\\end{matrix}\\right]$"
      ],
      "text/plain": [
       "Matrix([\n",
       "[(1 + I)*exp(t*(-2 - I))],\n",
       "[      2*exp(t*(-2 - I))]])"
      ]
     },
     "execution_count": 53,
     "metadata": {},
     "output_type": "execute_result"
    }
   ],
   "source": [
    "one_evec_soln = P.col(0)*sp.exp(D[0]*t)\n",
    "one_evec_soln"
   ]
  },
  {
   "cell_type": "markdown",
   "metadata": {},
   "source": [
    "What do we get if we break this into real and imaginary parts?"
   ]
  },
  {
   "cell_type": "code",
   "execution_count": 54,
   "metadata": {},
   "outputs": [
    {
     "data": {
      "text/plain": [
       "(Matrix([\n",
       " [exp(-2*t)*sin(t) + exp(-2*t)*cos(t)],\n",
       " [                 2*exp(-2*t)*cos(t)]]),\n",
       " Matrix([\n",
       " [-exp(-2*t)*sin(t) + exp(-2*t)*cos(t)],\n",
       " [                 -2*exp(-2*t)*sin(t)]]))"
      ]
     },
     "execution_count": 54,
     "metadata": {},
     "output_type": "execute_result"
    }
   ],
   "source": [
    "re_part, im_part = one_evec_soln.as_real_imag()\n",
    "re_part, im_part"
   ]
  },
  {
   "cell_type": "markdown",
   "metadata": {},
   "source": [
    "Note these real and imaginary parts are exactly the same as Charnley's independent solutions from section 4.5 of the text. You'll need to use these with WebWork to get the \"right\" answer for those homework problems. Happily, sympy makes it pretty easy!"
   ]
  },
  {
   "cell_type": "code",
   "execution_count": 55,
   "metadata": {},
   "outputs": [
    {
     "data": {
      "text/latex": [
       "$\\displaystyle \\left[\\begin{matrix}c_{1} \\left(e^{- 2 t} \\sin{\\left(t \\right)} + e^{- 2 t} \\cos{\\left(t \\right)}\\right) + c_{2} \\left(- e^{- 2 t} \\sin{\\left(t \\right)} + e^{- 2 t} \\cos{\\left(t \\right)}\\right)\\\\2 c_{1} e^{- 2 t} \\cos{\\left(t \\right)} - 2 c_{2} e^{- 2 t} \\sin{\\left(t \\right)}\\end{matrix}\\right]$"
      ],
      "text/plain": [
       "Matrix([\n",
       "[c1*(exp(-2*t)*sin(t) + exp(-2*t)*cos(t)) + c2*(-exp(-2*t)*sin(t) + exp(-2*t)*cos(t))],\n",
       "[                                       2*c1*exp(-2*t)*cos(t) - 2*c2*exp(-2*t)*sin(t)]])"
      ]
     },
     "execution_count": 55,
     "metadata": {},
     "output_type": "execute_result"
    }
   ],
   "source": [
    "gen_soln = c1*re_part+c2*im_part\n",
    "gen_soln"
   ]
  },
  {
   "cell_type": "markdown",
   "metadata": {},
   "source": [
    "We could even solve this version for c1, and c2"
   ]
  },
  {
   "cell_type": "code",
   "execution_count": 56,
   "metadata": {},
   "outputs": [
    {
     "data": {
      "text/plain": [
       "{c1: 5, c2: 15}"
      ]
     },
     "execution_count": 56,
     "metadata": {},
     "output_type": "execute_result"
    }
   ],
   "source": [
    "coeffs = sp.solve(gen_soln.subs(t,0)-sp.Matrix([20,10]),(c1,c2))\n",
    "coeffs\n"
   ]
  },
  {
   "cell_type": "code",
   "execution_count": 57,
   "metadata": {},
   "outputs": [
    {
     "data": {
      "text/latex": [
       "$\\displaystyle \\left[\\begin{matrix}- 10 e^{- 2 t} \\sin{\\left(t \\right)} + 20 e^{- 2 t} \\cos{\\left(t \\right)}\\\\- 30 e^{- 2 t} \\sin{\\left(t \\right)} + 10 e^{- 2 t} \\cos{\\left(t \\right)}\\end{matrix}\\right]$"
      ],
      "text/plain": [
       "Matrix([\n",
       "[-10*exp(-2*t)*sin(t) + 20*exp(-2*t)*cos(t)],\n",
       "[-30*exp(-2*t)*sin(t) + 10*exp(-2*t)*cos(t)]])"
      ]
     },
     "execution_count": 57,
     "metadata": {},
     "output_type": "execute_result"
    }
   ],
   "source": [
    "gen_soln.subs(coeffs)"
   ]
  },
  {
   "cell_type": "markdown",
   "metadata": {},
   "source": [
    "# Now it's your turn!\n",
    "\n",
    "You encounter a couple of symbiotic organisms. After much study you determine that their populations evolve approximately according to the following relationship:\n",
    "\n",
    "\\begin{align}\n",
    "dy_1/dt & = -3 y_1 + 4 y_2 \\\\\n",
    "dy_2/dt & = -2 y_1 + 1 y_2\n",
    "\\end{align}\n",
    "\n",
    "where $y_1$ and $y_2$ are the deviations from the ultimate steady state population. "
   ]
  },
  {
   "cell_type": "markdown",
   "metadata": {},
   "source": [
    "Questions: \n",
    "\n",
    "1. Transform this into a coupled system of equations\n",
    "2. Find the eigenvalues and eigenvectors of the system\n",
    "3. Find a general (complex or real) solution as a superposition of the eigenvectors times exponentials of the eigenvalues times time.\n",
    "4. Solve for the population (deviations) as as function of time assuming $y_1(0)=15$ and $y_2(0)=5$.\n",
    "5. Plot the solution from $t=0$ to $t=10$.\n",
    "6. How long does it take for both populations to get \"close\" to their steady state values?"
   ]
  },
  {
   "cell_type": "markdown",
   "metadata": {},
   "source": []
  }
 ],
 "metadata": {
  "kernelspec": {
   "display_name": "vsci",
   "language": "python",
   "name": "python3"
  },
  "language_info": {
   "codemirror_mode": {
    "name": "ipython",
    "version": 3
   },
   "file_extension": ".py",
   "mimetype": "text/x-python",
   "name": "python",
   "nbconvert_exporter": "python",
   "pygments_lexer": "ipython3",
   "version": "3.10.10"
  },
  "orig_nbformat": 4
 },
 "nbformat": 4,
 "nbformat_minor": 2
}
