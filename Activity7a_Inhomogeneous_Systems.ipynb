{
  "cells": [
    {
      "cell_type": "markdown",
      "metadata": {
        "id": "f15rOmPy_R1Y"
      },
      "source": [
        "# Activity 7a: Using an Non-Homogeneous system approach with the Laplace Transform\n",
        "\n",
        "We need to learn how to use the system approach to solving inhomogeneous problems using the Laplace Transform. The first part of this activity (7a) will focus on this issue. The second part (7b) will focus on non-linear systems.\n",
        "\n",
        "## A simple example\n",
        "\n",
        "Suppose we have an inhomogeneous ODE like this one:\n",
        "\n",
        "$$ y'' + 16y = 64t, \\,\\,\\,y(0) = 9, \\,\\,\\, y'(0) = 2 $$\n",
        "\n",
        "Let's convert this into a system of equations: let $y=y_1$, and $y'=y_2$. Let's work first on the homogeneous part:\n",
        "\n",
        "$$ y'' + 16y = 0 \\rightarrow y'' = -16y $$\n",
        "\n",
        "or, in terms of $y_1$ and $y_2$ we have:\n",
        "\n",
        "\\begin{align}\n",
        "y_1' & = y_2 \\\\\n",
        "y_2' & = -16 y_1\n",
        "\\end{align}\n",
        "\n",
        "Then we get:\n",
        "\n",
        "$$\\frac{d}{dt} \\begin{bmatrix}{y \\\\ y'}\\end{bmatrix} =\n",
        "\\begin{bmatrix}{y' \\\\ y''}\\end{bmatrix} =\n",
        "A \\begin{bmatrix}{y \\\\ y'}\\end{bmatrix} =\n",
        "A \\begin{bmatrix}y_1 \\\\ y_2 \\end{bmatrix} $$\n",
        "\n",
        "so we need $A$ to be:\n",
        "\n",
        "$$\\begin{bmatrix}{y' \\\\ y''}\\end{bmatrix} =\n",
        "A \\begin{bmatrix}{y \\\\ y'}\\end{bmatrix} =\n",
        "\\begin{bmatrix}0 & 1 \\\\ -16 & 0 \\end{bmatrix} \\begin{bmatrix}{y \\\\ y'}\\end{bmatrix}\n",
        "$$\n",
        "\n",
        "So putting in $y=y_1$, and $y'=y_2$ that boils down to:\n",
        "\n",
        "$$\\frac{d}{dt} \\begin{bmatrix}{y_1 \\\\ y_2}\\end{bmatrix} =\n",
        "\\begin{bmatrix}0 & 1 \\\\ -16 & 0 \\end{bmatrix} \\begin{bmatrix}{y_1 \\\\ y_2}\\end{bmatrix}\n",
        "$$\n",
        "\n",
        "Let's take the Laplace Transform of both sides:\n",
        "\n",
        "$$ s \\begin{bmatrix}{Y_1(s) \\\\ Y_2(s)}\\end{bmatrix} - \\begin{bmatrix}y_1(0)\\\\y_2(0)\\end{bmatrix} =\n",
        "\\begin{bmatrix}0 & 1 \\\\ -16 & 0 \\end{bmatrix} \\begin{bmatrix}{Y_1(s) \\\\ Y_2(s)}\\end{bmatrix}\n",
        "$$\n",
        "\n",
        "or in vector notation:\n",
        "\n",
        "$$ s\\vec{Y}(s)-A \\vec{Y}(s) = \\vec{y}_0 $$\n",
        "\n",
        "But this is easy to solve!\n",
        "\n",
        "$$ \\vec{Y}(s) = (s-A)^{-1} \\vec{y}_0 $$\n",
        "\n",
        "Can we do this with `sympy`? You bet!\n"
      ]
    },
    {
      "cell_type": "code",
      "execution_count": null,
      "metadata": {
        "id": "CxFlXDqK-_Cy"
      },
      "outputs": [],
      "source": [
        "import sympy as sp\n",
        "import numpy as np\n",
        "import matplotlib.pyplot as plt"
      ]
    },
    {
      "cell_type": "code",
      "execution_count": null,
      "metadata": {
        "colab": {
          "base_uri": "https://localhost:8080/"
        },
        "id": "_g01Awo0DFFk",
        "outputId": "99c421e3-26bc-47d6-a5dc-069ffbafd00d"
      },
      "outputs": [
        {
          "data": {
            "text/plain": [
              "(Matrix([\n",
              " [  0, 1],\n",
              " [-16, 0]]),\n",
              " Matrix([\n",
              " [9],\n",
              " [2]]))"
            ]
          },
          "execution_count": 5,
          "metadata": {},
          "output_type": "execute_result"
        }
      ],
      "source": [
        "A = sp.Matrix([[0,1],[-16,0]])\n",
        "y0 = sp.Matrix([9,2])\n",
        "A,y0"
      ]
    },
    {
      "cell_type": "markdown",
      "metadata": {
        "id": "Pt0nnBj_EYRz"
      },
      "source": [
        "Let's diagonalize the matrix so we can get a sense of the homogeneous solutions we expect:"
      ]
    },
    {
      "cell_type": "code",
      "execution_count": null,
      "metadata": {
        "colab": {
          "base_uri": "https://localhost:8080/"
        },
        "id": "znl5yIEdEQ3m",
        "outputId": "bd09f548-5043-4e5d-c3b5-54bbfd5877c3"
      },
      "outputs": [
        {
          "data": {
            "text/plain": [
              "(Matrix([\n",
              " [I, -I],\n",
              " [4,  4]]),\n",
              " Matrix([\n",
              " [-4*I,   0],\n",
              " [   0, 4*I]]))"
            ]
          },
          "execution_count": 4,
          "metadata": {},
          "output_type": "execute_result"
        }
      ],
      "source": [
        "P,D = A.diagonalize()\n",
        "P,D"
      ]
    },
    {
      "cell_type": "markdown",
      "metadata": {
        "id": "VYryGILmE25V"
      },
      "source": [
        "Great! So we have two complex conjugate eigenvalues. We expect sinusoidal solutions. In fact we can completely solve the homogeneous case using the techniques we've encountered before."
      ]
    },
    {
      "cell_type": "code",
      "execution_count": null,
      "metadata": {
        "colab": {
          "base_uri": "https://localhost:8080/",
          "height": 61
        },
        "id": "JChEb09OE2l_",
        "outputId": "41cf128e-043e-4509-e6b9-d2f2c2e02058"
      },
      "outputs": [
        {
          "data": {
            "text/latex": [
              "$\\displaystyle \\left[\\begin{matrix}\\frac{\\sin{\\left(4 t \\right)}}{2} + 9 \\cos{\\left(4 t \\right)}\\\\- 36 \\sin{\\left(4 t \\right)} + 2 \\cos{\\left(4 t \\right)}\\end{matrix}\\right]$"
            ],
            "text/plain": [
              "Matrix([\n",
              "[  sin(4*t)/2 + 9*cos(4*t)],\n",
              "[-36*sin(4*t) + 2*cos(4*t)]])"
            ]
          },
          "execution_count": 9,
          "metadata": {},
          "output_type": "execute_result"
        }
      ],
      "source": [
        "t = sp.symbols(\"t\",real=True)\n",
        "y = P*sp.exp(D*t)*P.inv()*y0\n",
        "y.as_real_imag()[0]"
      ]
    },
    {
      "cell_type": "markdown",
      "metadata": {
        "id": "DGpwvBzdFx36"
      },
      "source": [
        "How can we solve this same problem with the Laplace Transform? Easy, just use the approach described above. We need to invert the matrix $s-A$ (called `SMA` here.) But wait, $s$ is just a variable, but $A$ is a square matrix. How do we do that? We can convert $s$ into a matrix by multiplying by the identity. This is easiest in sympy using the `diag` function, as shown below, in `sympy`:"
      ]
    },
    {
      "cell_type": "code",
      "execution_count": null,
      "metadata": {
        "colab": {
          "base_uri": "https://localhost:8080/",
          "height": 58
        },
        "id": "ZeOdXwk7GHvm",
        "outputId": "106d6a15-459c-495a-8f44-0e336986a9f4"
      },
      "outputs": [
        {
          "data": {
            "text/latex": [
              "$\\displaystyle \\left[\\begin{matrix}s & -1\\\\16 & s\\end{matrix}\\right]$"
            ],
            "text/plain": [
              "Matrix([\n",
              "[ s, -1],\n",
              "[16,  s]])"
            ]
          },
          "execution_count": 11,
          "metadata": {},
          "output_type": "execute_result"
        }
      ],
      "source": [
        "s = sp.symbols(\"s\")\n",
        "SMA = sp.diag(s,s) - A\n",
        "SMA"
      ]
    },
    {
      "cell_type": "code",
      "execution_count": null,
      "metadata": {
        "colab": {
          "base_uri": "https://localhost:8080/",
          "height": 59
        },
        "id": "4Yy7xsLLVwfl",
        "outputId": "7d9f2454-2199-49df-9fca-fd38f24cb2d4"
      },
      "outputs": [
        {
          "data": {
            "text/latex": [
              "$\\displaystyle \\left[\\begin{matrix}\\frac{s}{s^{2} + 16} & \\frac{1}{s^{2} + 16}\\\\- \\frac{16}{s^{2} + 16} & \\frac{s}{s^{2} + 16}\\end{matrix}\\right]$"
            ],
            "text/plain": [
              "Matrix([\n",
              "[  s/(s**2 + 16), 1/(s**2 + 16)],\n",
              "[-16/(s**2 + 16), s/(s**2 + 16)]])"
            ]
          },
          "execution_count": 58,
          "metadata": {},
          "output_type": "execute_result"
        }
      ],
      "source": [
        "sp.simplify(SMA.inv())"
      ]
    },
    {
      "cell_type": "code",
      "execution_count": null,
      "metadata": {
        "colab": {
          "base_uri": "https://localhost:8080/",
          "height": 62
        },
        "id": "rPKcDZmXGLIc",
        "outputId": "37173763-2d65-49ce-fd1a-1e1d55448a43"
      },
      "outputs": [
        {
          "data": {
            "text/latex": [
              "$\\displaystyle \\left[\\begin{matrix}\\frac{9 s + 2}{s^{2} + 16}\\\\\\frac{2 \\left(s - 72\\right)}{s^{2} + 16}\\end{matrix}\\right]$"
            ],
            "text/plain": [
              "Matrix([\n",
              "[ (9*s + 2)/(s**2 + 16)],\n",
              "[2*(s - 72)/(s**2 + 16)]])"
            ]
          },
          "execution_count": 53,
          "metadata": {},
          "output_type": "execute_result"
        }
      ],
      "source": [
        "Y = sp.simplify(SMA.inv()*y0)\n",
        "Y"
      ]
    },
    {
      "cell_type": "markdown",
      "metadata": {
        "id": "-e4cpEqyHh5q"
      },
      "source": [
        "Let's take the inverse transform of the top ($y_1$) component of the resulting vector."
      ]
    },
    {
      "cell_type": "code",
      "execution_count": null,
      "metadata": {
        "colab": {
          "base_uri": "https://localhost:8080/",
          "height": 53
        },
        "id": "lfJJD4J5GTEQ",
        "outputId": "c8942a4d-33c5-496e-8569-dc10af05d049"
      },
      "outputs": [
        {
          "data": {
            "text/latex": [
              "$\\displaystyle \\frac{\\left(\\sin{\\left(4 t \\right)} + 18 \\cos{\\left(4 t \\right)}\\right) \\theta\\left(t\\right)}{2}$"
            ],
            "text/plain": [
              "(sin(4*t) + 18*cos(4*t))*Heaviside(t)/2"
            ]
          },
          "execution_count": 15,
          "metadata": {},
          "output_type": "execute_result"
        }
      ],
      "source": [
        "y_1 = sp.inverse_laplace_transform(Y[0],s,t)\n",
        "y_1"
      ]
    },
    {
      "cell_type": "markdown",
      "metadata": {
        "id": "_rGkjiESH2wl"
      },
      "source": [
        "Not suprisingly it matches the homogenous solution exactly. Good! What about $y_2 = y'$?\n"
      ]
    },
    {
      "cell_type": "code",
      "execution_count": null,
      "metadata": {
        "colab": {
          "base_uri": "https://localhost:8080/",
          "height": 38
        },
        "id": "1QZGGRJLHuKI",
        "outputId": "871588ae-364d-466a-f64b-d6cdeb4dbd10"
      },
      "outputs": [
        {
          "data": {
            "text/latex": [
              "$\\displaystyle - 2 \\cdot \\left(18 \\sin{\\left(4 t \\right)} - \\cos{\\left(4 t \\right)}\\right) \\theta\\left(t\\right)$"
            ],
            "text/plain": [
              "-2*(18*sin(4*t) - cos(4*t))*Heaviside(t)"
            ]
          },
          "execution_count": 16,
          "metadata": {},
          "output_type": "execute_result"
        }
      ],
      "source": [
        "y_2 = sp.inverse_laplace_transform(Y[1],s,t)\n",
        "y_2"
      ]
    },
    {
      "cell_type": "markdown",
      "metadata": {
        "id": "ZB0_OWmBII6A"
      },
      "source": [
        "Excellent! But wait, if we just get the same result either way, what's the point? Why not just use the original technique? The reason is we have an *inhomogenous* problem, and the homogeneous solution is only part of that story. Basically, we use the homogeneous solution to deal with the initial conditions, and the Laplace transform to handle the inhomogeneous part. But with this technique, the Laplace Transform actually does it all in one go if we like. Let's redo the analysis from above, but this time, let's include the inhomogeneous part. Our new equations would be:\n",
        "\n",
        "or, in terms of $y_1$ and $y_2$ we have:\n",
        "\n",
        "\\begin{align}\n",
        "y_1' & = y_2 + 0\\\\\n",
        "y_2' & = -16 y_1 + 64t\n",
        "\\end{align}\n",
        "\n",
        "or\n",
        "\n",
        "\\begin{equation}\n",
        "\\frac{d}{dt} \\begin{bmatrix} y_1\\\\ y_2\\end{bmatrix} =\n",
        "\\begin{bmatrix}0 & 1 \\\\ -16 & 0 \\end{bmatrix} \\begin{bmatrix} y_1\\\\ y_2\\end{bmatrix} + \\begin{bmatrix} 0 \\\\ 64 t \\end{bmatrix}\n",
        "\\end{equation}\n",
        "\n",
        "Again, taking the Laplace Transform of both sides we get:\n",
        "\n",
        "\\begin{equation}\n",
        "s \\begin{bmatrix} Y_1(s)\\\\ Y_2(s)\\end{bmatrix} - \\vec{y}_0 =\n",
        "\\begin{bmatrix}0 & 1 \\\\ -16 & 0 \\end{bmatrix} \\begin{bmatrix} Y_1(s)\\\\ Y_2(s)\\end{bmatrix} + \\mathscr{L}\\left( \\begin{bmatrix} 0 \\\\ 64t \\end{bmatrix}\\right)\n",
        "\\end{equation}\n"
      ]
    },
    {
      "cell_type": "markdown",
      "metadata": {},
      "source": [
        "\n",
        "Or, equivalently in vector form:\n",
        "\n",
        "\\begin{equation}\n",
        "s\\vec{Y}(s)-A \\vec{Y}(s) = \\vec{y}_0 + \\vec{F}(s)\n",
        "\\end{equation}\n",
        "\n",
        "Where $ \\vec{F}(s) $ is the Laplace Transform of\n",
        "\n",
        "$$ \\vec{F}(s) = \\mathscr{L}\\left( \\begin{bmatrix} 0 \\\\ 64t \\end{bmatrix}\\right) $$\n",
        "\n",
        "Where $\\vec{F}(s)$ is the Laplace Transform of the inhomogeneous term in the original differential equation. This is also quite easy to solve:\n",
        "\n",
        "$$ \\vec{Y}(s) = (s-A)^{-1} \\vec{y}_0 + (s-A)^{-1} \\vec{F}(s) $$\n",
        "\n",
        "Note that the Laplace Transform $\\vec{Y}(s)$ has two separate parts:\n",
        "\n",
        "1. The Laplace Transform of the solution to the homogeneous problem\n",
        "2. The Laplace Transform of the solution to the in-homogeneous problem.\n",
        "\n",
        "We already found (1), so we can just focus on (2) and the add the solutions together, since the Laplace Transform of the sum is just the sum of the Laplace Transforms. Let's focus for the moment on (2):\n"
      ]
    },
    {
      "cell_type": "code",
      "execution_count": null,
      "metadata": {},
      "outputs": [],
      "source": []
    },
    {
      "cell_type": "code",
      "execution_count": null,
      "metadata": {},
      "outputs": [],
      "source": []
    },
    {
      "cell_type": "code",
      "execution_count": null,
      "metadata": {
        "colab": {
          "base_uri": "https://localhost:8080/",
          "height": 51
        },
        "id": "LCxzExRtIC2c",
        "outputId": "92c83897-caff-4571-ef5e-09660d896452"
      },
      "outputs": [
        {
          "data": {
            "text/latex": [
              "$\\displaystyle \\frac{64}{s^{2}}$"
            ],
            "text/plain": [
              "64/s**2"
            ]
          },
          "execution_count": 41,
          "metadata": {},
          "output_type": "execute_result"
        }
      ],
      "source": [
        "f2 = 64*t\n",
        "F2 = sp.laplace_transform(f2,t,s,noconds=True)\n",
        "F2"
      ]
    },
    {
      "cell_type": "code",
      "execution_count": null,
      "metadata": {
        "colab": {
          "base_uri": "https://localhost:8080/",
          "height": 58
        },
        "id": "FdPXQK9NKeHb",
        "outputId": "8306480f-7a26-485a-8253-ccf80343c995"
      },
      "outputs": [
        {
          "data": {
            "text/latex": [
              "$\\displaystyle \\left[\\begin{matrix}0\\\\\\frac{64}{s^{2}}\\end{matrix}\\right]$"
            ],
            "text/plain": [
              "Matrix([\n",
              "[      0],\n",
              "[64/s**2]])"
            ]
          },
          "execution_count": 42,
          "metadata": {},
          "output_type": "execute_result"
        }
      ],
      "source": [
        "F = sp.Matrix([0,F2]) # There is no inhomogeneous forcing function on y itself, just y'\n",
        "F"
      ]
    },
    {
      "cell_type": "code",
      "execution_count": null,
      "metadata": {
        "colab": {
          "base_uri": "https://localhost:8080/",
          "height": 68
        },
        "id": "IlfWMOKWKt1S",
        "outputId": "d21ae461-9221-4a3f-b400-bc526c0314cb"
      },
      "outputs": [
        {
          "data": {
            "text/latex": [
              "$\\displaystyle \\left[\\begin{matrix}\\frac{64}{s^{2} \\left(s^{2} + 16\\right)}\\\\\\frac{64}{s \\left(s^{2} + 16\\right)}\\end{matrix}\\right]$"
            ],
            "text/plain": [
              "Matrix([\n",
              "[64/(s**2*(s**2 + 16))],\n",
              "[   64/(s*(s**2 + 16))]])"
            ]
          },
          "execution_count": 51,
          "metadata": {},
          "output_type": "execute_result"
        }
      ],
      "source": [
        "Yp = sp.simplify(SMA.inv()*F)\n",
        "Yp"
      ]
    },
    {
      "cell_type": "code",
      "execution_count": null,
      "metadata": {
        "colab": {
          "base_uri": "https://localhost:8080/",
          "height": 38
        },
        "id": "mFLdvg7DK0jL",
        "outputId": "8b177910-69b9-4541-f672-368efb4a319d"
      },
      "outputs": [
        {
          "data": {
            "text/latex": [
              "$\\displaystyle \\left(4 t - \\sin{\\left(4 t \\right)}\\right) \\theta\\left(t\\right)$"
            ],
            "text/plain": [
              "(4*t - sin(4*t))*Heaviside(t)"
            ]
          },
          "execution_count": 52,
          "metadata": {},
          "output_type": "execute_result"
        }
      ],
      "source": [
        "yp1 = sp.inverse_laplace_transform(Yp[0],s,t)\n",
        "yp1"
      ]
    },
    {
      "cell_type": "markdown",
      "metadata": {
        "id": "XGUxkJUiLLxK"
      },
      "source": [
        "Note that the solution to the inhomogeneous problem is zero at $t=0$, so it means that adding this to the homogeneous solution will not disturb the initial conditions satisfied by the homogeneous solution.\n",
        "\n",
        "So, the final/complete solution will be:\n",
        "\n",
        "$$ y(t) = y_1(t) + y_{p1}(t) $$"
      ]
    },
    {
      "cell_type": "code",
      "execution_count": null,
      "metadata": {
        "colab": {
          "base_uri": "https://localhost:8080/",
          "height": 53
        },
        "id": "2GiiXA1rLAN8",
        "outputId": "213cd7bb-f6c2-4edd-acf1-515bd91f03ec"
      },
      "outputs": [
        {
          "data": {
            "text/latex": [
              "$\\displaystyle \\left(4 t - \\sin{\\left(4 t \\right)}\\right) \\theta\\left(t\\right) + \\frac{\\left(\\sin{\\left(4 t \\right)} + 18 \\cos{\\left(4 t \\right)}\\right) \\theta\\left(t\\right)}{2}$"
            ],
            "text/plain": [
              "(4*t - sin(4*t))*Heaviside(t) + (sin(4*t) + 18*cos(4*t))*Heaviside(t)/2"
            ]
          },
          "execution_count": 45,
          "metadata": {},
          "output_type": "execute_result"
        }
      ],
      "source": [
        "y = y_1 + yp1\n",
        "y"
      ]
    },
    {
      "cell_type": "code",
      "execution_count": null,
      "metadata": {
        "colab": {
          "base_uri": "https://localhost:8080/",
          "height": 38
        },
        "id": "-3thbE_JL1VB",
        "outputId": "cb650331-94ea-499a-c993-64ae3fee70e8"
      },
      "outputs": [
        {
          "data": {
            "text/latex": [
              "$\\displaystyle 4 \\cdot \\left(1 - \\cos{\\left(4 t \\right)}\\right) \\theta\\left(t\\right)$"
            ],
            "text/plain": [
              "4*(1 - cos(4*t))*Heaviside(t)"
            ]
          },
          "execution_count": 46,
          "metadata": {},
          "output_type": "execute_result"
        }
      ],
      "source": [
        "yp2 = sp.inverse_laplace_transform(Yp[1],s,t) # Let's check the first derivative as well\n",
        "yp2"
      ]
    },
    {
      "cell_type": "code",
      "execution_count": null,
      "metadata": {
        "colab": {
          "base_uri": "https://localhost:8080/",
          "height": 38
        },
        "id": "7NUQI1NyL9ZM",
        "outputId": "edb7f1f9-41ec-49dd-c330-9900d0544dcd"
      },
      "outputs": [
        {
          "data": {
            "text/latex": [
              "$\\displaystyle 4 \\cdot \\left(1 - \\cos{\\left(4 t \\right)}\\right) \\theta\\left(t\\right) - 2 \\cdot \\left(18 \\sin{\\left(4 t \\right)} - \\cos{\\left(4 t \\right)}\\right) \\theta\\left(t\\right)$"
            ],
            "text/plain": [
              "4*(1 - cos(4*t))*Heaviside(t) - 2*(18*sin(4*t) - cos(4*t))*Heaviside(t)"
            ]
          },
          "execution_count": 47,
          "metadata": {},
          "output_type": "execute_result"
        }
      ],
      "source": [
        "yprime = y_2 + yp2\n",
        "yprime"
      ]
    },
    {
      "cell_type": "code",
      "execution_count": null,
      "metadata": {
        "colab": {
          "base_uri": "https://localhost:8080/",
          "height": 504
        },
        "id": "phuewmZTMjFM",
        "outputId": "0ed53dc1-914c-4b4f-92a2-7681e455e83f"
      },
      "outputs": [
        {
          "data": {
            "image/png": "[encoded data removed]",
            "text/plain": [
              "<Figure size 640x480 with 1 Axes>"
            ]
          },
          "metadata": {},
          "output_type": "display_data"
        },
        {
          "data": {
            "text/plain": [
              "<sympy.plotting.plot.Plot at 0x7b76a8eda020>"
            ]
          },
          "execution_count": 50,
          "metadata": {},
          "output_type": "execute_result"
        }
      ],
      "source": [
        "sp.plot(y,yprime,(t,0,5))"
      ]
    },
    {
      "cell_type": "markdown",
      "metadata": {
        "id": "61NWwwhiSzE4"
      },
      "source": [
        "Now suppose you have a homework problem that asks you to \"Take the Laplace transform of both sides of the given differential equation to create the corresponding algebraic equation. Denote the Laplace transform of $y(t)$ by $Y(s)$. Do not move any terms from one side of the equation to the other (until you get to part (b) below).\"\n",
        "\n",
        "Well, you could do that directly and keep track of all the initial conditions as described in the text:\n",
        "\n",
        "$$ s^2 Y(s) - s y(0) - y'(0) + 16 Y(s) = \\frac{64}{s^2} $$\n",
        "\n",
        "In the case of this problem you'd get:\n",
        "\n",
        "$$ s^2 Y(s) - 9s - 2 + 16 Y(s) = \\frac{64}{s^2} $$\n",
        "\n",
        "Which is what the homework system is looking for.\n",
        "\n",
        "After solving for $Y(s)$ you'd get:\n",
        "\n",
        "$$ Y(s) = \\frac{9s + 2}{s^2 + 16} + \\frac{64}{s^2(s^2+16)}$$\n",
        "\n",
        "But notice, these are *exactly* the homogeneous part `Y[0]` and the particular inhomogeneous part `Yp[0]` from above!\n"
      ]
    },
    {
      "cell_type": "code",
      "execution_count": null,
      "metadata": {
        "colab": {
          "base_uri": "https://localhost:8080/",
          "height": 52
        },
        "id": "pxcHoqd-Ml-v",
        "outputId": "1cd0b366-acde-4f74-f912-64c3ec1de614"
      },
      "outputs": [
        {
          "data": {
            "text/latex": [
              "$\\displaystyle \\frac{9 s + 2}{s^{2} + 16}$"
            ],
            "text/plain": [
              "(9*s + 2)/(s**2 + 16)"
            ]
          },
          "execution_count": 56,
          "metadata": {},
          "output_type": "execute_result"
        }
      ],
      "source": [
        "Y[0]"
      ]
    },
    {
      "cell_type": "code",
      "execution_count": null,
      "metadata": {
        "colab": {
          "base_uri": "https://localhost:8080/",
          "height": 55
        },
        "id": "uOvETx0XVWE1",
        "outputId": "c117e803-a74a-47ff-89b9-ff970b0ded98"
      },
      "outputs": [
        {
          "data": {
            "text/latex": [
              "$\\displaystyle \\frac{64}{s^{2} \\left(s^{2} + 16\\right)}$"
            ],
            "text/plain": [
              "64/(s**2*(s**2 + 16))"
            ]
          },
          "execution_count": 57,
          "metadata": {},
          "output_type": "execute_result"
        }
      ],
      "source": [
        "Yp[0]"
      ]
    },
    {
      "cell_type": "markdown",
      "metadata": {
        "id": "lVh5SOtwWh9G"
      },
      "source": [
        "So the left hand side (LHS) of the Laplace Transform of the original differential equation is just what you have when you multiply through by the characteristic polynomial (in this case $s^2 + 16) and move the homogeneous term to the left side of the equal sign. The right hand side (RHS) is what's left. If you multiply by the characteristic polynomial you get:\n",
        "\n",
        "$$ (s^2+16)Y(s) = 9s + 2 + \\frac{64}{s^2} $$\n",
        "\n",
        "Then moving the $9s + 2$ over you get:\n",
        "\n",
        "$$ (s^2+16)Y(s) - 9s - 2  = \\frac{64}{s^2} $$\n",
        "\n",
        "Which you can then use to fill in the homework problem.\n"
      ]
    },
    {
      "cell_type": "markdown",
      "metadata": {
        "id": "kr2RZIKgatLL"
      },
      "source": [
        "# Now it's your turn!\n",
        "\n",
        "Pick any of the non-homogeneous problems from section 4.8 or 4.9 of Charnley's book. (Feel free to ask if you're not sure if a problem is non-homogeneous!)\n",
        "\n",
        "1. Translate the problem into a system of equations.\n",
        "2. Solve the homogeneous problem with either the Laplace Transform or the eigenvector/eigenvalue method of Activities 5a/5b. Use the homogeneous solution to satisfy any non-zero initial conditions.\n",
        "3. Solve the non-homogeneous problem using the Laplace Transform, as described above in this notebook.\n",
        "4. Interpret the results. Explain how the homogeneous part of the solution is distinct from the non-homogeneous part.\n"
      ]
    },
    {
      "cell_type": "code",
      "execution_count": null,
      "metadata": {
        "id": "5jhiE9a3dC44"
      },
      "outputs": [],
      "source": []
    }
  ],
  "metadata": {
    "colab": {
      "provenance": []
    },
    "kernelspec": {
      "display_name": "Python 3",
      "name": "python3"
    },
    "language_info": {
      "name": "python"
    }
  },
  "nbformat": 4,
  "nbformat_minor": 0
}
