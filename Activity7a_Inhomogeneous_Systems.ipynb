{
  "cells": [
    {
      "cell_type": "markdown",
      "metadata": {
        "id": "f15rOmPy_R1Y"
      },
      "source": [
        "# Activity 7a: Using an Non-Homogeneous system approach with the Laplace Transform\n",
        "\n",
        "We need to learn how to use the system approach to solving inhomogeneous problems using the Laplace Transform. The first part of this activity (7a) will focus on this issue. The second part (7b) will focus on non-linear systems.\n",
        "\n",
        "## A simple example\n",
        "\n",
        "Suppose we have an inhomogeneous ODE like this one:\n",
        "\n",
        "$$ y'' + 16y = 64t, \\,\\,\\,y(0) = 9, \\,\\,\\, y'(0) = 2 $$\n",
        "\n",
        "Let's convert this into a system of equations: let $y=y_1$, and $y'=y_2$. Let's work first on the homogeneous part:\n",
        "\n",
        "$$ y'' + 16y = 0 \\rightarrow y'' = -16y $$\n",
        "\n",
        "or, in terms of $y_1$ and $y_2$ we have:\n",
        "\n",
        "\\begin{align}\n",
        "y_1' & = y_2 \\\\\n",
        "y_2' & = -16 y_1\n",
        "\\end{align}\n",
        "\n",
        "Then we get:\n",
        "\n",
        "$$\\frac{d}{dt} \\begin{bmatrix}{y \\\\ y'}\\end{bmatrix} =\n",
        "\\begin{bmatrix}{y' \\\\ y''}\\end{bmatrix} =\n",
        "A \\begin{bmatrix}{y \\\\ y'}\\end{bmatrix} =\n",
        "A \\begin{bmatrix}y_1 \\\\ y_2 \\end{bmatrix} $$\n",
        "\n",
        "so we need $A$ to be:\n",
        "\n",
        "$$\\begin{bmatrix}{y' \\\\ y''}\\end{bmatrix} =\n",
        "A \\begin{bmatrix}{y \\\\ y'}\\end{bmatrix} =\n",
        "\\begin{bmatrix}0 & 1 \\\\ -16 & 0 \\end{bmatrix} \\begin{bmatrix}{y \\\\ y'}\\end{bmatrix}\n",
        "$$\n",
        "\n",
        "So putting in $y=y_1$, and $y'=y_2$ that boils down to:\n",
        "\n",
        "$$\\frac{d}{dt} \\begin{bmatrix}{y_1 \\\\ y_2}\\end{bmatrix} =\n",
        "\\begin{bmatrix}0 & 1 \\\\ -16 & 0 \\end{bmatrix} \\begin{bmatrix}{y_1 \\\\ y_2}\\end{bmatrix}\n",
        "$$\n",
        "\n",
        "Let's take the Laplace Transform of both sides:\n",
        "\n",
        "$$ s \\begin{bmatrix}{Y_1(s) \\\\ Y_2(s)}\\end{bmatrix} - \\begin{bmatrix}y_1(0)\\\\y_2(0)\\end{bmatrix} =\n",
        "\\begin{bmatrix}0 & 1 \\\\ -16 & 0 \\end{bmatrix} \\begin{bmatrix}{Y_1(s) \\\\ Y_2(s)}\\end{bmatrix}\n",
        "$$\n",
        "\n",
        "or in vector notation:\n",
        "\n",
        "$$ s\\vec{Y}(s)-A \\vec{Y}(s) = \\vec{y}_0 $$\n",
        "\n",
        "But this is easy to solve!\n",
        "\n",
        "$$ \\vec{Y}(s) = (s-A)^{-1} \\vec{y}_0 $$\n",
        "\n",
        "Can we do this with `sympy`? You bet!\n"
      ]
    },
    {
      "cell_type": "code",
      "source": [
        "#!pip install -U sympy # un comment this line the first time you run the notebook, and every time you restart you colab session"
      ],
      "metadata": {
        "id": "sVH2kM8aFFCm"
      },
      "execution_count": 1,
      "outputs": []
    },
    {
      "cell_type": "code",
      "execution_count": null,
      "metadata": {
        "id": "CxFlXDqK-_Cy"
      },
      "outputs": [],
      "source": [
        "import sympy as sp\n",
        "import numpy as np\n",
        "import matplotlib.pyplot as plt"
      ]
    },
    {
      "cell_type": "code",
      "execution_count": null,
      "metadata": {
        "colab": {
          "base_uri": "https://localhost:8080/"
        },
        "id": "_g01Awo0DFFk",
        "outputId": "be9d9c25-0920-4282-c122-ed323f4c4d29"
      },
      "outputs": [
        {
          "output_type": "execute_result",
          "data": {
            "text/plain": [
              "(Matrix([\n",
              " [  0, 1],\n",
              " [-16, 0]]),\n",
              " Matrix([\n",
              " [9],\n",
              " [2]]))"
            ]
          },
          "metadata": {},
          "execution_count": 2
        }
      ],
      "source": [
        "A = sp.Matrix([[0,1],[-16,0]])\n",
        "y0 = sp.Matrix([9,2])\n",
        "A,y0"
      ]
    },
    {
      "cell_type": "markdown",
      "metadata": {
        "id": "Pt0nnBj_EYRz"
      },
      "source": [
        "Let's diagonalize the matrix so we can get a sense of the homogeneous solutions we expect:"
      ]
    },
    {
      "cell_type": "code",
      "execution_count": null,
      "metadata": {
        "colab": {
          "base_uri": "https://localhost:8080/"
        },
        "id": "znl5yIEdEQ3m",
        "outputId": "5e0abd2b-a704-4ad4-dea6-dd81391c764e"
      },
      "outputs": [
        {
          "output_type": "execute_result",
          "data": {
            "text/plain": [
              "(Matrix([\n",
              " [I, -I],\n",
              " [4,  4]]),\n",
              " Matrix([\n",
              " [-4*I,   0],\n",
              " [   0, 4*I]]))"
            ]
          },
          "metadata": {},
          "execution_count": 3
        }
      ],
      "source": [
        "P,D = A.diagonalize()\n",
        "P,D"
      ]
    },
    {
      "cell_type": "markdown",
      "metadata": {
        "id": "VYryGILmE25V"
      },
      "source": [
        "Great! So we have two complex conjugate eigenvalues. We expect sinusoidal solutions. In fact we can completely solve the homogeneous case using the techniques we've encountered before."
      ]
    },
    {
      "cell_type": "code",
      "execution_count": null,
      "metadata": {
        "colab": {
          "base_uri": "https://localhost:8080/",
          "height": 61
        },
        "id": "JChEb09OE2l_",
        "outputId": "155a7916-3c99-40c1-a4e9-4222ac383403"
      },
      "outputs": [
        {
          "output_type": "execute_result",
          "data": {
            "text/plain": [
              "Matrix([\n",
              "[  sin(4*t)/2 + 9*cos(4*t)],\n",
              "[-36*sin(4*t) + 2*cos(4*t)]])"
            ],
            "text/latex": "$\\displaystyle \\left[\\begin{matrix}\\frac{\\sin{\\left(4 t \\right)}}{2} + 9 \\cos{\\left(4 t \\right)}\\\\- 36 \\sin{\\left(4 t \\right)} + 2 \\cos{\\left(4 t \\right)}\\end{matrix}\\right]$"
          },
          "metadata": {},
          "execution_count": 4
        }
      ],
      "source": [
        "t = sp.symbols(\"t\",real=True, positive=True)\n",
        "y = P*sp.exp(D*t)*P.inv()*y0\n",
        "y.as_real_imag()[0]"
      ]
    },
    {
      "cell_type": "markdown",
      "metadata": {
        "id": "DGpwvBzdFx36"
      },
      "source": [
        "How can we solve this same problem with the Laplace Transform? Easy, just use the approach described above. We need to invert the matrix $s-A$ (called `SMA` here.) But wait, $s$ is just a variable, but $A$ is a square matrix. How do we do that? We can convert $s$ into a matrix by multiplying by the identity. This is easiest in sympy using the `diag` function, as shown below, in `sympy`:"
      ]
    },
    {
      "cell_type": "code",
      "execution_count": null,
      "metadata": {
        "colab": {
          "base_uri": "https://localhost:8080/",
          "height": 58
        },
        "id": "ZeOdXwk7GHvm",
        "outputId": "493e7c62-2b9f-4350-84f1-f6ec6b2af086"
      },
      "outputs": [
        {
          "output_type": "execute_result",
          "data": {
            "text/plain": [
              "Matrix([\n",
              "[ s, -1],\n",
              "[16,  s]])"
            ],
            "text/latex": "$\\displaystyle \\left[\\begin{matrix}s & -1\\\\16 & s\\end{matrix}\\right]$"
          },
          "metadata": {},
          "execution_count": 5
        }
      ],
      "source": [
        "s = sp.symbols(\"s\")\n",
        "SMA = sp.diag(s,s) - A\n",
        "SMA"
      ]
    },
    {
      "cell_type": "code",
      "execution_count": null,
      "metadata": {
        "colab": {
          "base_uri": "https://localhost:8080/",
          "height": 59
        },
        "id": "4Yy7xsLLVwfl",
        "outputId": "ad9eec99-6536-4900-cb79-cf095a07ac5b"
      },
      "outputs": [
        {
          "output_type": "execute_result",
          "data": {
            "text/plain": [
              "Matrix([\n",
              "[  s/(s**2 + 16), 1/(s**2 + 16)],\n",
              "[-16/(s**2 + 16), s/(s**2 + 16)]])"
            ],
            "text/latex": "$\\displaystyle \\left[\\begin{matrix}\\frac{s}{s^{2} + 16} & \\frac{1}{s^{2} + 16}\\\\- \\frac{16}{s^{2} + 16} & \\frac{s}{s^{2} + 16}\\end{matrix}\\right]$"
          },
          "metadata": {},
          "execution_count": 6
        }
      ],
      "source": [
        "sp.simplify(SMA.inv())"
      ]
    },
    {
      "cell_type": "code",
      "execution_count": null,
      "metadata": {
        "colab": {
          "base_uri": "https://localhost:8080/",
          "height": 62
        },
        "id": "rPKcDZmXGLIc",
        "outputId": "4d18de6f-5c1b-4f89-b58f-d2ac9ddaf512"
      },
      "outputs": [
        {
          "output_type": "execute_result",
          "data": {
            "text/plain": [
              "Matrix([\n",
              "[ (9*s + 2)/(s**2 + 16)],\n",
              "[2*(s - 72)/(s**2 + 16)]])"
            ],
            "text/latex": "$\\displaystyle \\left[\\begin{matrix}\\frac{9 s + 2}{s^{2} + 16}\\\\\\frac{2 \\left(s - 72\\right)}{s^{2} + 16}\\end{matrix}\\right]$"
          },
          "metadata": {},
          "execution_count": 7
        }
      ],
      "source": [
        "Y = sp.simplify(SMA.inv()*y0)\n",
        "Y"
      ]
    },
    {
      "cell_type": "markdown",
      "metadata": {
        "id": "-e4cpEqyHh5q"
      },
      "source": [
        "Let's take the inverse transform of the top ($y_1$) component of the resulting vector."
      ]
    },
    {
      "cell_type": "code",
      "execution_count": null,
      "metadata": {
        "colab": {
          "base_uri": "https://localhost:8080/",
          "height": 53
        },
        "id": "lfJJD4J5GTEQ",
        "outputId": "f68b6ad7-70ce-4afb-dd6a-808eaa1c6434"
      },
      "outputs": [
        {
          "output_type": "execute_result",
          "data": {
            "text/plain": [
              "sin(4*t)/2 + 9*cos(4*t)"
            ],
            "text/latex": "$\\displaystyle \\frac{\\sin{\\left(4 t \\right)}}{2} + 9 \\cos{\\left(4 t \\right)}$"
          },
          "metadata": {},
          "execution_count": 8
        }
      ],
      "source": [
        "y_1 = sp.inverse_laplace_transform(Y[0],s,t)\n",
        "y_1"
      ]
    },
    {
      "cell_type": "markdown",
      "metadata": {
        "id": "_rGkjiESH2wl"
      },
      "source": [
        "Not suprisingly it matches the homogenous solution exactly. Good! What about $y_2 = y'$?\n"
      ]
    },
    {
      "cell_type": "code",
      "execution_count": null,
      "metadata": {
        "colab": {
          "base_uri": "https://localhost:8080/",
          "height": 38
        },
        "id": "1QZGGRJLHuKI",
        "outputId": "ba4f22db-08d5-41b7-a052-f938c84967fd"
      },
      "outputs": [
        {
          "output_type": "execute_result",
          "data": {
            "text/plain": [
              "-36*sin(4*t) + 2*cos(4*t)"
            ],
            "text/latex": "$\\displaystyle - 36 \\sin{\\left(4 t \\right)} + 2 \\cos{\\left(4 t \\right)}$"
          },
          "metadata": {},
          "execution_count": 9
        }
      ],
      "source": [
        "y_2 = sp.inverse_laplace_transform(Y[1],s,t)\n",
        "y_2"
      ]
    },
    {
      "cell_type": "markdown",
      "metadata": {
        "id": "ZB0_OWmBII6A"
      },
      "source": [
        "Excellent! But wait, if we just get the same result either way, what's the point? Why not just use the original technique? The reason is we have an *inhomogenous* problem, and the homogeneous solution is only part of that story. Basically, we use the homogeneous solution to deal with the initial conditions, and the Laplace transform to handle the inhomogeneous part. But with this technique, the Laplace Transform actually does it all in one go if we like. Let's redo the analysis from above, but this time, let's include the inhomogeneous part. Our new equations would be:\n",
        "\n",
        "or, in terms of $y_1$ and $y_2$ we have:\n",
        "\n",
        "\\begin{align}\n",
        "y_1' & = y_2 + 0\\\\\n",
        "y_2' & = -16 y_1 + 64t\n",
        "\\end{align}\n",
        "\n",
        "or\n",
        "\n",
        "$$ \\frac{d}{dt} \\begin{bmatrix} y_1\\\\ y_2\\end{bmatrix} =\n",
        "\\begin{bmatrix}0 & 1 \\\\ -16 & 0 \\end{bmatrix}\n",
        "\\begin{bmatrix} y_1\\\\ y_2\\end{bmatrix} +\n",
        "\\begin{bmatrix} 0 \\\\ 64 t \\end{bmatrix} $$\n",
        "\n",
        "Again, taking the Laplace Transform of both sides we get:\n",
        "\n",
        "$$ s \\begin{bmatrix} Y_1(s)\\\\ Y_2(s)\\end{bmatrix} - \\vec{y}_0 =\n",
        "\\begin{bmatrix}0 & 1 \\\\ -16 & 0 \\end{bmatrix} \\begin{bmatrix} Y_1(s)\\\\ Y_2(s)\\end{bmatrix} + \\mathscr{L}\\left( \\begin{bmatrix} 0 \\\\ 64t \\end{bmatrix}\\right) $$\n"
      ]
    },
    {
      "cell_type": "markdown",
      "metadata": {
        "id": "l9MzKsD-1G79"
      },
      "source": [
        "\n",
        "Or, equivalently, in vector form:\n",
        "\n",
        "$$ s\\vec{Y}(s)-A \\vec{Y}(s) = (s-A)\\vec{Y}(s) = \\vec{y}_0 + \\vec{F}(s) $$\n",
        "\n",
        "Where $\\vec{F}(s)$ is the vector form of the Laplace Transform of the inhomogeneous term in the original differential equation:\n",
        "\n",
        "$$ \\vec{F}(s) = \\mathscr{L}\\left( \\begin{bmatrix} 0 \\\\ 64t \\end{bmatrix}\\right) $$\n",
        "\n",
        "This is also quite easy to solve by hitting both sides with $(s-A)^{-1}$:\n",
        "\n",
        "$$ \\vec{Y}(s) = (s-A)^{-1} \\vec{y}_0 + (s-A)^{-1} \\vec{F}(s) $$\n",
        "\n",
        "Note that the Laplace Transform $\\vec{Y}(s)$ has two separate parts:\n",
        "\n",
        "1. The Laplace Transform of the solution to the homogeneous problem\n",
        "2. The Laplace Transform of the solution to the non-homogeneous problem.\n",
        "\n",
        "We already found (1) using the eigenvector/eigenvalue approach, so we can just focus on (2) and the add the solutions together, since the Laplace Transform of the sum is just the sum of the Laplace Transforms. Note that the using the Laplace Transform for the homogeneous solution is also quite easy. If you don't really *care* about knowing the eigenvalues or eigenvectors it also deals automatically with the cases we encountered using distinct real and complex eigenvectors, in addition to the cases we didn't where eigenvalues are repeated, so that's also cool!\n",
        "\n",
        "Let's focus for the moment on (2):\n",
        "\n"
      ]
    },
    {
      "cell_type": "code",
      "execution_count": null,
      "metadata": {
        "colab": {
          "base_uri": "https://localhost:8080/",
          "height": 51
        },
        "id": "LCxzExRtIC2c",
        "outputId": "1bd6696e-c0f5-448b-8b7f-dd0dfa5b0b02"
      },
      "outputs": [
        {
          "output_type": "execute_result",
          "data": {
            "text/plain": [
              "64/s**2"
            ],
            "text/latex": "$\\displaystyle \\frac{64}{s^{2}}$"
          },
          "metadata": {},
          "execution_count": 10
        }
      ],
      "source": [
        "f2 = 64*t\n",
        "F2 = sp.laplace_transform(f2,t,s,noconds=True)\n",
        "F2"
      ]
    },
    {
      "cell_type": "code",
      "execution_count": null,
      "metadata": {
        "colab": {
          "base_uri": "https://localhost:8080/",
          "height": 58
        },
        "id": "FdPXQK9NKeHb",
        "outputId": "b5fabfa3-950c-42b9-9c44-ae75dad2d4ef"
      },
      "outputs": [
        {
          "output_type": "execute_result",
          "data": {
            "text/plain": [
              "Matrix([\n",
              "[      0],\n",
              "[64/s**2]])"
            ],
            "text/latex": "$\\displaystyle \\left[\\begin{matrix}0\\\\\\frac{64}{s^{2}}\\end{matrix}\\right]$"
          },
          "metadata": {},
          "execution_count": 11
        }
      ],
      "source": [
        "F = sp.Matrix([0,F2]) # There is no inhomogeneous forcing function on y itself, just y'\n",
        "F"
      ]
    },
    {
      "cell_type": "code",
      "execution_count": null,
      "metadata": {
        "colab": {
          "base_uri": "https://localhost:8080/",
          "height": 68
        },
        "id": "IlfWMOKWKt1S",
        "outputId": "35ca5aac-1dc2-44c6-89e9-40aa706dbd70"
      },
      "outputs": [
        {
          "output_type": "execute_result",
          "data": {
            "text/plain": [
              "Matrix([\n",
              "[64/(s**2*(s**2 + 16))],\n",
              "[   64/(s*(s**2 + 16))]])"
            ],
            "text/latex": "$\\displaystyle \\left[\\begin{matrix}\\frac{64}{s^{2} \\left(s^{2} + 16\\right)}\\\\\\frac{64}{s \\left(s^{2} + 16\\right)}\\end{matrix}\\right]$"
          },
          "metadata": {},
          "execution_count": 12
        }
      ],
      "source": [
        "Yp = sp.simplify(SMA.inv()*F)\n",
        "Yp"
      ]
    },
    {
      "cell_type": "code",
      "execution_count": null,
      "metadata": {
        "colab": {
          "base_uri": "https://localhost:8080/",
          "height": 38
        },
        "id": "mFLdvg7DK0jL",
        "outputId": "f50580c9-58f5-4df4-afd4-b5001667757d"
      },
      "outputs": [
        {
          "output_type": "execute_result",
          "data": {
            "text/plain": [
              "4*t - sin(4*t)"
            ],
            "text/latex": "$\\displaystyle 4 t - \\sin{\\left(4 t \\right)}$"
          },
          "metadata": {},
          "execution_count": 13
        }
      ],
      "source": [
        "yp1 = sp.inverse_laplace_transform(Yp[0],s,t)\n",
        "yp1"
      ]
    },
    {
      "cell_type": "markdown",
      "metadata": {
        "id": "XGUxkJUiLLxK"
      },
      "source": [
        "Note that the solution to the inhomogeneous problem is zero at $t=0$, so it means that adding this to the homogeneous solution will not disturb the initial conditions satisfied by the homogeneous solution.\n",
        "\n",
        "So, the final/complete solution will be:\n",
        "\n",
        "$$ y(t) = y_1(t) + y_{p1}(t) $$"
      ]
    },
    {
      "cell_type": "code",
      "execution_count": null,
      "metadata": {
        "colab": {
          "base_uri": "https://localhost:8080/",
          "height": 53
        },
        "id": "2GiiXA1rLAN8",
        "outputId": "d27af486-61cd-4372-df32-aaf8f468fffe"
      },
      "outputs": [
        {
          "output_type": "execute_result",
          "data": {
            "text/plain": [
              "4*t - sin(4*t)/2 + 9*cos(4*t)"
            ],
            "text/latex": "$\\displaystyle 4 t - \\frac{\\sin{\\left(4 t \\right)}}{2} + 9 \\cos{\\left(4 t \\right)}$"
          },
          "metadata": {},
          "execution_count": 14
        }
      ],
      "source": [
        "y = y_1 + yp1\n",
        "y"
      ]
    },
    {
      "cell_type": "code",
      "execution_count": null,
      "metadata": {
        "colab": {
          "base_uri": "https://localhost:8080/",
          "height": 38
        },
        "id": "-3thbE_JL1VB",
        "outputId": "cb5127f9-e5c2-433e-9e1c-85cdabda5cbe"
      },
      "outputs": [
        {
          "output_type": "execute_result",
          "data": {
            "text/plain": [
              "4 - 4*cos(4*t)"
            ],
            "text/latex": "$\\displaystyle 4 - 4 \\cos{\\left(4 t \\right)}$"
          },
          "metadata": {},
          "execution_count": 15
        }
      ],
      "source": [
        "yp2 = sp.inverse_laplace_transform(Yp[1],s,t) # Let's check the first derivative as well\n",
        "yp2"
      ]
    },
    {
      "cell_type": "code",
      "execution_count": null,
      "metadata": {
        "colab": {
          "base_uri": "https://localhost:8080/",
          "height": 38
        },
        "id": "7NUQI1NyL9ZM",
        "outputId": "9bf2e019-7b8f-4fb3-eb21-31237eb24505"
      },
      "outputs": [
        {
          "output_type": "execute_result",
          "data": {
            "text/plain": [
              "-36*sin(4*t) - 2*cos(4*t) + 4"
            ],
            "text/latex": "$\\displaystyle - 36 \\sin{\\left(4 t \\right)} - 2 \\cos{\\left(4 t \\right)} + 4$"
          },
          "metadata": {},
          "execution_count": 16
        }
      ],
      "source": [
        "yprime = y_2 + yp2\n",
        "yprime"
      ]
    },
    {
      "cell_type": "code",
      "execution_count": null,
      "metadata": {
        "colab": {
          "base_uri": "https://localhost:8080/",
          "height": 504
        },
        "id": "phuewmZTMjFM",
        "outputId": "8e711013-cc64-4ab4-edb2-715281c08b39"
      },
      "outputs": [
        {
          "output_type": "display_data",
          "data": {
            "text/plain": [
              "<Figure size 640x480 with 1 Axes>"
            ],
            "image/png": "[encoded data removed]"
          },
          "metadata": {}
        },
        {
          "output_type": "execute_result",
          "data": {
            "text/plain": [
              "<sympy.plotting.plot.Plot at 0x7c7c64d5c340>"
            ]
          },
          "metadata": {},
          "execution_count": 17
        }
      ],
      "source": [
        "sp.plot(y,yprime,(t,0,5))\n"
      ]
    },
    {
      "cell_type": "markdown",
      "metadata": {
        "id": "61NWwwhiSzE4"
      },
      "source": [
        "Now suppose you have a homework problem that asks you to \"Take the Laplace transform of both sides of the given differential equation to create the corresponding algebraic equation. Denote the Laplace transform of $y(t)$ by $Y(s)$. Do not move any terms from one side of the equation to the other (until you get to part (b) below).\"\n",
        "\n",
        "Well, you could do that directly and keep track of all the initial conditions as described in the text:\n",
        "\n",
        "$$ s^2 Y(s) - s y(0) - y'(0) + 16 Y(s) = \\frac{64}{s^2} $$\n",
        "\n",
        "In the case of this problem you'd get:\n",
        "\n",
        "$$ s^2 Y(s) - 9s - 2 + 16 Y(s) = \\frac{64}{s^2} $$\n",
        "\n",
        "Which is what the homework system is looking for.\n",
        "\n",
        "After solving for $Y(s)$ you'd get:\n",
        "\n",
        "$$ Y(s) = \\frac{9s + 2}{s^2 + 16} + \\frac{64}{s^2(s^2+16)}$$\n",
        "\n",
        "But notice, these are *exactly* the homogeneous part `Y[0]` and the particular inhomogeneous part `Yp[0]` from above!\n"
      ]
    },
    {
      "cell_type": "code",
      "execution_count": null,
      "metadata": {
        "colab": {
          "base_uri": "https://localhost:8080/",
          "height": 52
        },
        "id": "pxcHoqd-Ml-v",
        "outputId": "4b47d3a2-deac-4319-90c2-7a25cd5370a1"
      },
      "outputs": [
        {
          "output_type": "execute_result",
          "data": {
            "text/plain": [
              "(9*s + 2)/(s**2 + 16)"
            ],
            "text/latex": "$\\displaystyle \\frac{9 s + 2}{s^{2} + 16}$"
          },
          "metadata": {},
          "execution_count": 18
        }
      ],
      "source": [
        "Y[0]"
      ]
    },
    {
      "cell_type": "code",
      "execution_count": null,
      "metadata": {
        "colab": {
          "base_uri": "https://localhost:8080/",
          "height": 55
        },
        "id": "uOvETx0XVWE1",
        "outputId": "54fae5f0-2e98-47dc-911a-8ef810d6c76c"
      },
      "outputs": [
        {
          "output_type": "execute_result",
          "data": {
            "text/plain": [
              "64/(s**2*(s**2 + 16))"
            ],
            "text/latex": "$\\displaystyle \\frac{64}{s^{2} \\left(s^{2} + 16\\right)}$"
          },
          "metadata": {},
          "execution_count": 19
        }
      ],
      "source": [
        "Yp[0]"
      ]
    },
    {
      "cell_type": "markdown",
      "metadata": {
        "id": "lVh5SOtwWh9G"
      },
      "source": [
        "So the left hand side (LHS) of the Laplace Transform of the original differential equation is just what you have when you multiply through by the characteristic polynomial (in this case $s^2 + 16) and move the homogeneous term to the left side of the equal sign. The right hand side (RHS) is what's left. If you multiply by the characteristic polynomial you get:\n",
        "\n",
        "$$ (s^2+16)Y(s) = 9s + 2 + \\frac{64}{s^2} $$\n",
        "\n",
        "Then moving the $9s + 2$ over you get:\n",
        "\n",
        "$$ (s^2+16)Y(s) - 9s - 2  = \\frac{64}{s^2} $$\n",
        "\n",
        "Which you can then use to fill in the homework problem.\n"
      ]
    },
    {
      "cell_type": "markdown",
      "metadata": {
        "id": "kr2RZIKgatLL"
      },
      "source": [
        "# Now it's your turn!\n",
        "\n",
        "Pick any of the non-homogeneous problems from section 4.8 or 4.9 of Charnley's book. (Feel free to ask if you're not sure if a problem is non-homogeneous!)\n",
        "\n",
        "1. Translate the problem into a system of equations.\n",
        "2. Solve the homogeneous problem with either the Laplace Transform or the eigenvector/eigenvalue method of Activities 5a/5b. Use the homogeneous solution to satisfy any non-zero initial conditions.\n",
        "3. Solve the non-homogeneous problem using the Laplace Transform, as described above in this notebook.\n",
        "4. Interpret the results. Explain how the homogeneous part of the solution is distinct from the non-homogeneous part.\n"
      ]
    },
    {
      "cell_type": "code",
      "execution_count": null,
      "metadata": {
        "id": "5jhiE9a3dC44"
      },
      "outputs": [],
      "source": []
    }
  ],
  "metadata": {
    "colab": {
      "provenance": []
    },
    "kernelspec": {
      "display_name": "Python 3",
      "language": "python",
      "name": "python3"
    },
    "language_info": {
      "codemirror_mode": {
        "name": "ipython",
        "version": 3
      },
      "file_extension": ".py",
      "mimetype": "text/x-python",
      "name": "python",
      "nbconvert_exporter": "python",
      "pygments_lexer": "ipython3",
      "version": "3.10.10"
    }
  },
  "nbformat": 4,
  "nbformat_minor": 0
}