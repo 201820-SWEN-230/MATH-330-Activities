{
  "cells": [
    {
      "attachments": {},
      "cell_type": "markdown",
      "metadata": {},
      "source": [
        "# Activity 4: Linear Algebra and Linear Systems\n",
        "\n",
        "In this activity we'll learn how python can help with managing linear systems of equations. We'll learn how to set up systems of equations in python and translate them into linear transformations.\n",
        "\n",
        "First let's look at manipulating matrices with python:"
      ]
    },
    {
      "cell_type": "code",
      "execution_count": 1,
      "metadata": {},
      "outputs": [
        {
          "data": {
            "text/plain": [
              "array([[1, 2, 3],\n",
              "       [4, 5, 6],\n",
              "       [7, 8, 9]])"
            ]
          },
          "execution_count": 1,
          "metadata": {},
          "output_type": "execute_result"
        }
      ],
      "source": [
        "import numpy as np\n",
        "import matplotlib.pyplot as plt\n",
        "\n",
        "#\n",
        "# create a 3x3 matrix using numpy. The input is a list of lists\n",
        "#\n",
        "\n",
        "A = np.array([[1, 2, 3], [4, 5, 6], [7, 8, 9]])\n",
        "A"
      ]
    },
    {
      "attachments": {},
      "cell_type": "markdown",
      "metadata": {},
      "source": [
        "To create a matrix use the np.array constructor, but this time the argument is a list of lists. The outer list holds the three rows, and each inner list is a single row. You can experiment with arrays easily to see how they behave:"
      ]
    },
    {
      "cell_type": "code",
      "execution_count": 2,
      "metadata": {},
      "outputs": [
        {
          "data": {
            "text/plain": [
              "array([[ 2,  3,  4],\n",
              "       [ 5,  6,  7],\n",
              "       [ 8,  9, 10]])"
            ]
          },
          "execution_count": 2,
          "metadata": {},
          "output_type": "execute_result"
        }
      ],
      "source": [
        "A+1"
      ]
    },
    {
      "cell_type": "code",
      "execution_count": 3,
      "metadata": {},
      "outputs": [
        {
          "data": {
            "text/plain": [
              "array([[ 2,  4,  6],\n",
              "       [ 8, 10, 12],\n",
              "       [14, 16, 18]])"
            ]
          },
          "execution_count": 3,
          "metadata": {},
          "output_type": "execute_result"
        }
      ],
      "source": [
        "A*2"
      ]
    },
    {
      "attachments": {},
      "cell_type": "markdown",
      "metadata": {},
      "source": [
        "Note that simple math with scalers operates on eacm of the elements of the array the same. You can also add arrays:"
      ]
    },
    {
      "cell_type": "code",
      "execution_count": 4,
      "metadata": {},
      "outputs": [
        {
          "data": {
            "text/plain": [
              "array([[ 2,  4,  6],\n",
              "       [ 8, 10, 12],\n",
              "       [14, 16, 18]])"
            ]
          },
          "execution_count": 4,
          "metadata": {},
          "output_type": "execute_result"
        }
      ],
      "source": [
        "B=2*A # create a new matrix B that is 2 times A\n",
        "B"
      ]
    },
    {
      "cell_type": "code",
      "execution_count": 5,
      "metadata": {},
      "outputs": [
        {
          "data": {
            "text/plain": [
              "array([[ 3,  6,  9],\n",
              "       [12, 15, 18],\n",
              "       [21, 24, 27]])"
            ]
          },
          "execution_count": 5,
          "metadata": {},
          "output_type": "execute_result"
        }
      ],
      "source": [
        "A+B # add A and B"
      ]
    },
    {
      "cell_type": "code",
      "execution_count": 6,
      "metadata": {},
      "outputs": [
        {
          "data": {
            "text/plain": [
              "array([[  2,   8,  18],\n",
              "       [ 32,  50,  72],\n",
              "       [ 98, 128, 162]])"
            ]
          },
          "execution_count": 6,
          "metadata": {},
          "output_type": "execute_result"
        }
      ],
      "source": [
        "A*B # multiply A and B element by element"
      ]
    },
    {
      "attachments": {},
      "cell_type": "markdown",
      "metadata": {},
      "source": [
        "# The Scaler Product\n",
        "\n",
        "There is a very useful operation between two vectors sometimes called the \"dot\" product, or \"scaler\" product. A dot product is computing by multiplying corresponding components of two individual vectors, and then calculating the sum of those products. Suppose $\\vec{A}^{*}$ is a vector and $\\vec{B}$ is a vector, like so\n",
        "\n",
        "$$ \\vec{A} = \\begin{bmatrix} 1 \\\\ 2 \\\\ 3 \\end{bmatrix} \\ \\ \\vec{B} = \\begin{bmatrix} 4 \\\\ 5 \\\\ 6 \\end{bmatrix}$$\n",
        "\n",
        "The *dot* *product* of $\\vec{A}$ and $\\vec{B}$ would be:\n",
        "\n",
        "$$ \\sum A_i B_i = 1\\times 4 + 2 \\times 5 + 3 \\times 6 = 32 $$\n",
        "\n",
        "In python one can accomplish this by using the \"matrix multiplication\" operator `@` like so:"
      ]
    },
    {
      "cell_type": "code",
      "execution_count": 7,
      "metadata": {},
      "outputs": [
        {
          "data": {
            "text/plain": [
              "32"
            ]
          },
          "execution_count": 7,
          "metadata": {},
          "output_type": "execute_result"
        }
      ],
      "source": [
        "A = np.array([1,2,3])\n",
        "B = np.array([4,5,6])\n",
        "\n",
        "A@B"
      ]
    },
    {
      "attachments": {},
      "cell_type": "markdown",
      "metadata": {},
      "source": [
        "There is a related concept called a *linear* *transformation* where a vector is linearly transformed into another vector. A linear transformation involves using this same matrix multiplication operator to compute the dot product of the three row vectors that make up the linear transoformation with the original vector:\n",
        "\n",
        "Suppose:\n",
        "\n",
        "$$ A = \\begin{bmatrix} 1 & 2 & 3 \\\\ 4 & 5 & 6 \\\\ 7 & 8 & 9 \\end{bmatrix} $$\n",
        "\n",
        "and \n",
        "\n",
        "$$ \\vec{B} = \\begin{bmatrix} 2 \\\\ 3 \\\\ 4 \\end{bmatrix} $$\n",
        "\n",
        "Then you can compute the linear transformation of $\\vec{B}$ by $A$ as the vector whose components are the dot products of the rows of $A$ with $\\vec{B}$\n",
        "\n",
        "Let $\\vec{C}$ be the linear transformation:\n",
        "\n",
        "$$ \\vec{C} = A \\vec{B} = \\begin{bmatrix} 1 & 2 & 3 \\\\ 4 & 5 & 6 \\\\ 7 & 8 & 9 \\end{bmatrix} \\begin{bmatrix} 2 \\\\ 3 \\\\ 4 \\end{bmatrix}$$\n",
        "\n",
        "$$ \\vec{C} = \\begin{bmatrix} 1\\times 2 + 2\\times 3 + 3 \\times 4 \\\\ 4 \\times 2 + 5 \\times 3 + 6\\times 4 \\\\ 7\\times 2 + 8\\times 3 + 9\\times 4 \\end{bmatrix} = \\begin{bmatrix} 20 \\\\ 47 \\\\ 74 \\end{bmatrix}$$\n",
        "\n"
      ]
    },
    {
      "cell_type": "code",
      "execution_count": 8,
      "metadata": {},
      "outputs": [
        {
          "data": {
            "text/plain": [
              "array([20, 47, 74])"
            ]
          },
          "execution_count": 8,
          "metadata": {},
          "output_type": "execute_result"
        }
      ],
      "source": [
        "#\n",
        "# It looks hard, but in python it's actually super easy:\n",
        "#\n",
        "\n",
        "A = np.array([[1,2,3],[4,5,6],[7,8,9]])\n",
        "B = np.array([2,3,4])\n",
        "C = A@B\n",
        "C"
      ]
    },
    {
      "attachments": {},
      "cell_type": "markdown",
      "metadata": {},
      "source": [
        "Another way to *think* of it is the linear combination, or superposition, of the columns of $A$ using the components of $\\vec{B}$ as the coefficients:\n",
        "\n",
        "$$\\vec{C} = \\begin{bmatrix} 1 \\\\ 4 \\\\ 7 \\end{bmatrix} \\times 2 +  \\begin{bmatrix} 2 \\\\ 5 \\\\ 8 \\end{bmatrix} \\times 3 + \\begin{bmatrix} 3 \\\\ 6 \\\\ 9 \\end{bmatrix} \\times 4 =  \\begin{bmatrix} 20 \\\\ 47 \\\\ 74 \\end{bmatrix}$$\n",
        "\n",
        "As you can see you get the same result either way.\n"
      ]
    },
    {
      "attachments": {},
      "cell_type": "markdown",
      "metadata": {},
      "source": [
        "\n",
        "# Systems of Equations again\n",
        "\n",
        "Recall when we studied systems of linear equations like these:\n",
        "\n",
        "\\begin{align}\n",
        "a + b + c & = & 2\\\\\n",
        "-a + c & = & 8\\\\\n",
        "-a + b - c & = & -3\n",
        "\\end{align}\n",
        "\n",
        "We can now see that these are really just a linear transformation. The matrix $A$\n",
        "\n",
        "$$ A = \\begin{bmatrix} 1 & 1 & 1 \\\\ -1 & 0 & 1 \\\\ -1 & 1 & -1 \\end{bmatrix} $$\n",
        "\n",
        "transforms the unknown vector $\\vec{B}$:\n",
        "\n",
        "$$ \\vec{B} = \\begin{bmatrix} a \\\\ b \\\\ c \\end{bmatrix} $$\n",
        "\n",
        "Into the known vector $\\vec{C}$:\n",
        "\n",
        "$$ \\vec{C} = \\begin{bmatrix} 2 \\\\ 8 \\\\ -3 \\end{bmatrix} $$\n",
        "\n",
        "$$ \\vec{C} = A \\vec{B} = \\begin{bmatrix} 1 & 1 & 1 \\\\ -1 & 0 & 1 \\\\ -1 & 1 & -1 \\end{bmatrix} \\begin{bmatrix} a \\\\ b \\\\ c \\end{bmatrix} = \\begin{bmatrix} 2 \\\\ 8 \\\\ -3 \\end{bmatrix} $$\n",
        "\n",
        "If I gave you an algebraic problem:\n",
        "\n",
        "$ C = A B $ where $A$ and $C$ were known, and $B$ was unknown, how would you solve it? You'd just divide both sides by $A$, right?\n",
        "\n",
        "You'd just write $ B = C/A $. However, since $A$ is a *matrix* you can'd just divide. You need a concept called the *inverse* of the $\\text{\\it matrix}^*$. We need to find a matrix $A^{-1}$ with the property that $A A^{-1} = A^{-1} A = I$ Where $I$ is the *indentity* *matrix*, or *identity* *transformation*. The identity is a transformation that transforms a vector into *itself*.\n",
        "\n",
        "There are ways to find the inverse of a matrix manually, but the good news is that numpy can compute inverses easily!\n",
        "\n",
        "$^*$ Important Note: To actually compute the inverse of a square matrix (which we'll be letting the computer do for us in this class) one must compute something called the *determinant* of the matrix. One can show that if you start with a finite volume multidimensional figure in an n-D space, and then transform it with a matrix/linear transformation, the n-volume of the transformed figure is original volume times the determinant of the transformation. If this factor is zero, it means that the volume has gotten squished to zero! This means that two of the vectors making up the original volume now must point in the same direction. This means that the transformation cannot be inverted. Since to independent vectors (pointing in different directions) now point in the *same* direction. Also, the determinant shows up in the *denominator* of the expression for the matrix inverse. If the determinant is zero, it means the inverse is undefined, at best. This will be an important fact later on!"
      ]
    },
    {
      "cell_type": "code",
      "execution_count": 15,
      "metadata": {},
      "outputs": [
        {
          "data": {
            "text/plain": [
              "array([[ 0.25, -0.5 , -0.25],\n",
              "       [ 0.5 ,  0.  ,  0.5 ],\n",
              "       [ 0.25,  0.5 , -0.25]])"
            ]
          },
          "execution_count": 15,
          "metadata": {},
          "output_type": "execute_result"
        }
      ],
      "source": [
        "A = np.array([[ 1 , 1 , 1],[-1 , 0 , 1],[-1 , 1 , -1]])\n",
        "C = np.array([2,8,-3])\n",
        "Ainv = np.linalg.inv(A)\n",
        "Ainv"
      ]
    },
    {
      "cell_type": "code",
      "execution_count": 16,
      "metadata": {},
      "outputs": [
        {
          "data": {
            "text/plain": [
              "array([[1., 0., 0.],\n",
              "       [0., 1., 0.],\n",
              "       [0., 0., 1.]])"
            ]
          },
          "execution_count": 16,
          "metadata": {},
          "output_type": "execute_result"
        }
      ],
      "source": [
        "# Check that Ainv is the inverse of A\n",
        "\n",
        "Ainv@A"
      ]
    },
    {
      "attachments": {},
      "cell_type": "markdown",
      "metadata": {},
      "source": [
        "Bingo! The identity matrix! Note that the dot product of the nth row of the identity matrix is just the nth component of the input vector, so the output vector is always the same as in the input vector.\n",
        "\n",
        "Now, let's use the inverse to solve for $B = [a, b, c]$:"
      ]
    },
    {
      "cell_type": "code",
      "execution_count": 17,
      "metadata": {},
      "outputs": [
        {
          "name": "stdout",
          "output_type": "stream",
          "text": [
            "B= [-2.75 -0.5   5.25]\n",
            "A@B= [ 2.  8. -3.]\n"
          ]
        }
      ],
      "source": [
        "# solve for B\n",
        "\n",
        "B = Ainv@C\n",
        "print(\"B=\", B)\n",
        "\n",
        "# now check that B is the solution\n",
        "\n",
        "print(\"A@B=\", A@B)\n"
      ]
    },
    {
      "cell_type": "markdown",
      "metadata": {},
      "source": [
        "Perfect! That worked."
      ]
    },
    {
      "cell_type": "markdown",
      "metadata": {},
      "source": [
        "\n",
        "\n",
        "# What does this have to do with differential equations?\n",
        "\n",
        "The magic of vectors and matrices is that you can reason about systems of equations in a way that's similar to thinking about  simple algebraic equations. We can *apply* this ability in cases where we have systems of differential equations in a similar way. What's the simplest first order differential equation we've encountered? Probably this one:\n",
        "\n",
        "$$ \\frac{dy}{dt} = A y $$\n",
        "\n",
        "This equation as a simple solution:\n",
        "\n",
        "$$ y(t) = y_0 e^{A t} $$\n",
        "\n",
        "where $y(0) = y_0$.\n",
        "\n",
        "What if now, instead of $y$ being a simple *number* we let $y(t)$ be a *vector* of values?\n",
        "\n",
        "$$ \\vec{y} = \\begin{bmatrix} y_1 \\\\ y_2 \\\\ \\vdots \\\\ y_n \\end{bmatrix} $$\n",
        "\n",
        "Then we could have:\n",
        "\n",
        "$$ \\frac{d \\vec{y}}{dt} = \\begin{bmatrix} d y_1/dt \\\\ d y_2/dt \\\\ \\vdots \\\\ d y_n/dt \\end{bmatrix}=  A \\vec{y} = A \\begin{bmatrix} y_1 \\\\ y_2 \\\\ \\vdots \\\\ y_n \\end{bmatrix} $$\n",
        "\n",
        "But what kind of thing would $A$ have to be? It would have to multiply the vector $\\vec{y}$ and produce a new vector $\\frac{d \\vec{y}}{dt}$. Do we know of anything we can multiply by takes a vector as an input and produces another vector as an output? Yes! Of course, it's a *linear* *transformation*!"
      ]
    },
    {
      "attachments": {},
      "cell_type": "markdown",
      "metadata": {},
      "source": [
        "# Example: Mass + spring with damping\n",
        "\n",
        "In activities 2 and 3 we encountered the mass-spring system\n",
        "\n",
        "1) (definition of $v$)\n",
        "\n",
        "$$ \\frac{dx}{dt} = v $$ \n",
        "\n",
        "2) Since the spring force is $F=-kx$, but $F = ma = m dv/dt \\rightarrow a = -k x/m$ but $a=dv/dt$ so that means:\n",
        "\n",
        "$$ \\frac{dv}{dt} = -k x/m $$\n",
        "\n",
        "We can add a simple proportional damping term like so:\n",
        "\n",
        "$$ \\frac{dv}{dt} = -k x/m - b v/m $$\n",
        "\n",
        "We can think of $x$ and $v$ as two components of the system \"state\", $y$.\n",
        "\n",
        "$$ \\vec{y} = \\begin{bmatrix} x \\\\ v\\end{bmatrix} $$\n",
        "\n",
        "$$ \\frac{d \\vec{y}}{dt} = \\begin{bmatrix} dx/dt \\\\ dv/dt \\end{bmatrix}=  A \\vec{y} = A \\begin{bmatrix} x \\\\ v\\end{bmatrix} $$\n",
        "\n",
        "Then, using the relationships above for the mass-spring system, let's infer $A$.\n",
        "\n",
        "Since $ dx/dt = v $ it means the top *row* of $A$ must be `[ 0 1 ]`. And since $dv/dt = -k x/m - b v/m $ it means the bottom *row* of $A$ must be `[ -k/m -b/m]`, or:\n",
        "\n",
        "$$ \\frac{d \\vec{y}}{dt} = \\begin{bmatrix} dx/dt \\\\ dv/dt \\end{bmatrix}=  \\begin{bmatrix} 0 & 1 \\\\ -k/m & -b/m \\end{bmatrix} \\begin{bmatrix} x \\\\ v\\end{bmatrix} $$\n",
        "\n",
        "Let's explore this system numerically assuming $m=2{\\rm kg}$, $k=10{\\rm N/kg}$, and $b=2{\\rm Ns/m}$ assuming $x(0) = 1$ and $v(0) = 0$.\n",
        "\n",
        "\n",
        "\n",
        "\n"
      ]
    },
    {
      "cell_type": "code",
      "execution_count": 12,
      "metadata": {},
      "outputs": [
        {
          "data": {
            "text/plain": [
              "Text(0.5, 1.0, 'Mass-Spring System')"
            ]
          },
          "execution_count": 12,
          "metadata": {},
          "output_type": "execute_result"
        },
        {
          "data": {
            "image/png": "[encoded data removed]",
            "text/plain": [
              "<Figure size 640x480 with 1 Axes>"
            ]
          },
          "metadata": {},
          "output_type": "display_data"
        }
      ],
      "source": [
        "m = 2\n",
        "k = 10\n",
        "b = 2\n",
        "\n",
        "x0 = 1\n",
        "v0 = 0\n",
        "\n",
        "A = np.array([[0,1],[-k/m,-b/m]])  # define the matrix A\n",
        "\n",
        "def derivs(y,t):\n",
        "    return A@y  # note that our derivs function is just a simple matrix multiply!\n",
        "\n",
        "y0 = np.array([x0,v0])\n",
        "\n",
        "def HeunStep(f,y,t,dt):\n",
        "    k1 = f(y,t)\n",
        "    k2 = f(y+k1*dt,t+dt)\n",
        "    return y + (k1+k2)*dt/2\n",
        "\n",
        "t = 0\n",
        "dt = 0.1\n",
        "y = y0\n",
        "\n",
        "tlist = [t]\n",
        "xlist = [y[0]]\n",
        "vlist = [y[1]]\n",
        "\n",
        "while t<10:\n",
        "    y = HeunStep(derivs,y,t,dt)\n",
        "    t = t + dt\n",
        "    xlist.append(y[0])\n",
        "    vlist.append(y[1])\n",
        "    tlist.append(t)\n",
        "\n",
        "plt.plot(tlist,xlist,label='x')\n",
        "plt.plot(tlist,vlist,label='v')\n",
        "plt.grid()\n",
        "plt.legend()\n",
        "plt.xlabel('t')\n",
        "plt.ylabel('x,v')\n",
        "plt.title('Mass-Spring System')\n"
      ]
    },
    {
      "attachments": {},
      "cell_type": "markdown",
      "metadata": {},
      "source": [
        "# Now it's your turn!\n",
        "\n",
        "## Radioactive Decay System\n",
        "\n",
        "Here's another system that can be expressed as a linear system of equations.\n",
        "\n",
        "Suppose you have a radioactive source with a concentration $c_1$ that decays with time according to:\n",
        "\n",
        "$$ \\frac{dc_1}{dt} = - \\lambda_1 c_1 $$\n",
        "\n",
        "It decays into a \"daughter\" element with a concentration $c_2$, but this material is also radioactive, so it also decays with a rate $\\lambda_2$ according to:\n",
        "\n",
        "$$ \\frac{dc_2}{dt} = + \\lambda_1 c_1  - \\lambda_2 c_2$$\n",
        "\n",
        "Note that $c_2$ is increasing from decays of $c_1$, but decreasing due to its own decay process.\n",
        "\n",
        "Let's assume $c_2$ decays into a stable isotope with concentration $c_3$:\n",
        "\n",
        "$$ \\frac{dc_3}{dt} = + \\lambda_2 c_2 $$\n",
        "\n",
        "so the triple: $c_1, c_2, c_3$ is a system:\n",
        "\n",
        "$$ \\frac{d \\vec{y}}{dt} = \\begin{bmatrix} dc_1/dt \\\\ dc_2/dt \\\\ dc_3/dt \\end{bmatrix}=  A \\begin{bmatrix} c_1 \\\\ c_2 \\\\ c_3\\end{bmatrix} $$\n",
        "\n",
        "## Questions\n",
        "\n",
        "1. Convert this sytem of equations into a linear transformation of $\\vec{y}$ onto $d\\vec{y}/dt$. What is the matrix $A$? Explain your reasoning.\n",
        "2. Use the Heun method to explore the solutions for $c_1(t), c_2(t), c_3(t)$. Assume $[c_1, c_2, c_3]$ starts out as an array: `[1, 0, 0]`. Assume $\\lambda_1 = 2$ per year and $\\lambda_2 = 1$ per year. Use time units of years.\n",
        "3. Estimate is the maximum concentration $c_2(t)$. Estimate the time when this maximum occurs.\n",
        "\n",
        "You can check your results by comparing to this output:\n",
        "\n",
        "![graph of expected output](images/act4-soln.png)\n",
        "\n"
      ]
    },
    {
      "attachments": {},
      "cell_type": "markdown",
      "metadata": {},
      "source": []
    }
  ],
  "metadata": {
    "colab": {
      "provenance": []
    },
    "kernelspec": {
      "display_name": "Python 3",
      "name": "python3"
    },
    "language_info": {
      "codemirror_mode": {
        "name": "ipython",
        "version": 3
      },
      "file_extension": ".py",
      "mimetype": "text/x-python",
      "name": "python",
      "nbconvert_exporter": "python",
      "pygments_lexer": "ipython3",
      "version": "3.10.10"
    }
  },
  "nbformat": 4,
  "nbformat_minor": 0
}
